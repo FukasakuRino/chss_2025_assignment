{
  "cells": [
    {
      "cell_type": "markdown",
      "metadata": {
        "id": "0LY2zFXqMO1n"
      },
      "source": [
        "# 関数"
      ]
    },
    {
      "cell_type": "markdown",
      "metadata": {
        "id": "9-Idv7SUMO1r"
      },
      "source": [
        "関数は処理をまとめた再利用可能なコードです。\n",
        "\n",
        "関数を使うことで、同じ処理を複数回実行する必要がある場合に、コードを簡潔に保ち、修正や更新も容易になります。\n",
        "\n",
        "```len()```や```dict()```などの組み込み関数は関数の例です。\n",
        "\n"
      ]
    },
    {
      "cell_type": "markdown",
      "metadata": {
        "id": "NsjYWJISMO1s"
      },
      "source": [
        "## 関数の定義\n",
        "\n",
        "関数を定義するには、\n",
        "\n",
        "- ```def```を使って、関数を定義することを示します。その後、関数名を指定し、関数に対する引数を括弧に囲んで書き、最後にコロン(```:```)を書きます。\n",
        "- 関数本体では、処理を実行するためのコードを書きます。関数内で変数を宣言することもできますが、関数外で定義された変数を使用することもできます。\n",
        "- ```return```キーワードを使用して、関数が返す値を指定します。```return```を省略すると、関数は何も返しません。"
      ]
    },
    {
      "cell_type": "markdown",
      "metadata": {
        "id": "LFHBeOwSMO1s"
      },
      "source": [
        "```\n",
        "def 関数名(引数1, 引数2, ...):\n",
        "    処理1\n",
        "    処理2\n",
        "    ...\n",
        "    return 戻り値\n",
        "```"
      ]
    },
    {
      "cell_type": "markdown",
      "metadata": {
        "id": "4dbrZH1KMO1s"
      },
      "source": [
        "以下は、引数として2つの数値を受け取り、その和を返す関数の例です。（dif=difinicion）"
      ]
    },
    {
      "cell_type": "code",
      "execution_count": 1,
      "metadata": {
        "id": "NrX47899MO1t"
      },
      "outputs": [],
      "source": [
        "def add_numbers(x, y):\n",
        "    result = x + y\n",
        "    return result"
      ]
    },
    {
      "cell_type": "markdown",
      "metadata": {
        "id": "w8J3eRctMO1v"
      },
      "source": [
        "この関数を呼び出すには、以下のようにします。"
      ]
    },
    {
      "cell_type": "code",
      "execution_count": 4,
      "metadata": {
        "id": "jDTdpwZtMO1v",
        "outputId": "a6167533-ccfe-411b-8142-c4e1ef79060c",
        "colab": {
          "base_uri": "https://localhost:8080/"
        }
      },
      "outputs": [
        {
          "output_type": "stream",
          "name": "stdout",
          "text": [
            "8\n"
          ]
        }
      ],
      "source": [
        "result = add_numbers(3, 5)\n",
        "print(result) # 8が出力される"
      ]
    },
    {
      "cell_type": "code",
      "source": [
        "result = add_numbers(2,35)\n",
        "print(result)"
      ],
      "metadata": {
        "id": "Lm-tQuJTO_0c",
        "outputId": "f40a0a9d-ead9-4ffd-9412-927d90edc333",
        "colab": {
          "base_uri": "https://localhost:8080/"
        }
      },
      "execution_count": 3,
      "outputs": [
        {
          "output_type": "stream",
          "name": "stdout",
          "text": [
            "37\n"
          ]
        }
      ]
    },
    {
      "cell_type": "markdown",
      "metadata": {
        "id": "5ZEQbw94MO1w"
      },
      "source": [
        "```{note} 関数の命名規則\n",
        "関数の命名は基本的には自由ですが、以下のような慣習があります。\n",
        "- 関数名は、その関数が何を行うかを明確にするために、できるだけ短く、分かりやすくするように心がけます。\n",
        "- 関数名は、英小文字で始めます。\n",
        "- 複数の単語を含む関数名の場合、単語の間にはアンダースコア```_```を使用します。\n",
        "- **Pythonの組み込み関数と同じ名前を使用しないようにします。**\n",
        "```"
      ]
    },
    {
      "cell_type": "markdown",
      "metadata": {
        "id": "RJ3m6Tj3MO1w"
      },
      "source": [
        "## 返値\n",
        "\n",
        "関数は受け取った引数を元に処理を行い、その結果の返値を返すことができます。\n",
        "\n",
        "返値は、```return``` で定義します。 ```return``` が実行されると、関数の処理はそこで終了するため、次に文があっても実行はされません。\n",
        "\n",
        "戻り値```return```は単一の値や文字列に限らず、複数の値でも可能ですし、リストを返すことも出来ます。\n",
        "\n",
        "関数の返値がない場合は、```None``` が返されます。"
      ]
    },
    {
      "cell_type": "markdown",
      "metadata": {
        "id": "h3_XOc4VMO1w"
      },
      "source": [
        "## ローカル変数とグローバル変数"
      ]
    },
    {
      "cell_type": "markdown",
      "metadata": {
        "id": "ARFFqbM5MO1x"
      },
      "source": [
        "### スコープ"
      ]
    },
    {
      "cell_type": "markdown",
      "metadata": {
        "id": "eRb1xsDXMO1x"
      },
      "source": [
        "```{margin}\n",
        "変数のスコープは、命名空間とも呼ばれます。\n",
        "```\n",
        "\n",
        "```{note} 変数のスコープについて\n",
        "一般に、プログラミングでは**グローバル変数**と**ローカル変数**と呼ばれるものがあります。\n",
        "\n",
        "その名(global/local)が示すとおりグローバル変数とはどこからでも参照できる変数で、ローカル変数とは、ある有効範囲のみで参照できる変数です。\n",
        "```"
      ]
    },
    {
      "cell_type": "markdown",
      "metadata": {
        "id": "6h86lXXOMO1x"
      },
      "source": [
        "関数で代入される変数は、どれもローカルスコープに代入されます。\n",
        "\n",
        "ローカルスコープは、関数が呼び出された時に生成され、関数の引数から値を受け取ります。関数が終了するとローカルスコープは消します。\n",
        "\n",
        "```testfunc```の中で定義されている```a=10```は、関数の内部で定義(代入)される変数であるため、ローカル変数とみなされて処理が行われるので、グローバル変数である```a=2```に影響しないです。"
      ]
    },
    {
      "cell_type": "code",
      "source": [
        "a=5 #グローバル変数"
      ],
      "metadata": {
        "id": "lr0293z3Pf4V"
      },
      "execution_count": 5,
      "outputs": []
    },
    {
      "cell_type": "code",
      "source": [
        "a"
      ],
      "metadata": {
        "id": "IbC-OtF6PjQJ",
        "outputId": "a5020d5d-44cf-4e07-aa9f-e12ab348847c",
        "colab": {
          "base_uri": "https://localhost:8080/"
        }
      },
      "execution_count": 6,
      "outputs": [
        {
          "output_type": "execute_result",
          "data": {
            "text/plain": [
              "5"
            ]
          },
          "metadata": {},
          "execution_count": 6
        }
      ]
    },
    {
      "cell_type": "code",
      "source": [
        "a-7"
      ],
      "metadata": {
        "id": "DTge1BQAPkQb",
        "outputId": "2e6ca98d-b046-4285-c289-9fb24336f3f2",
        "colab": {
          "base_uri": "https://localhost:8080/"
        }
      },
      "execution_count": 7,
      "outputs": [
        {
          "output_type": "execute_result",
          "data": {
            "text/plain": [
              "-2"
            ]
          },
          "metadata": {},
          "execution_count": 7
        }
      ]
    },
    {
      "cell_type": "code",
      "execution_count": 9,
      "metadata": {
        "id": "443V7vx7MO1x"
      },
      "outputs": [],
      "source": [
        "def testfunc():\n",
        "    a = 10\n",
        "    print(\"関数の内部\", a, id(a))"
      ]
    },
    {
      "cell_type": "code",
      "source": [
        "def tester():\n",
        "    a = 4\n",
        "    print(\"関数の内部2\", a, id(a))"
      ],
      "metadata": {
        "id": "mgdWMZDNRkos"
      },
      "execution_count": 18,
      "outputs": []
    },
    {
      "cell_type": "code",
      "source": [
        "a= 2\n",
        "print(\"関数の実行前\", a, id(a))\n",
        "a=8\n",
        "a"
      ],
      "metadata": {
        "id": "Mes-YwJSP5W0",
        "outputId": "fe69f14b-3f14-437e-f5bb-388a6404b5ff",
        "colab": {
          "base_uri": "https://localhost:8080/"
        }
      },
      "execution_count": 15,
      "outputs": [
        {
          "output_type": "stream",
          "name": "stdout",
          "text": [
            "関数の実行前 2 10750888\n"
          ]
        },
        {
          "output_type": "execute_result",
          "data": {
            "text/plain": [
              "8"
            ]
          },
          "metadata": {},
          "execution_count": 15
        }
      ]
    },
    {
      "cell_type": "code",
      "source": [
        "testfunc()\n",
        "a"
      ],
      "metadata": {
        "id": "6LkSmswsQk8-",
        "outputId": "6458f96c-2eb2-4dba-c234-2335d8acffa9",
        "colab": {
          "base_uri": "https://localhost:8080/"
        }
      },
      "execution_count": 17,
      "outputs": [
        {
          "output_type": "stream",
          "name": "stdout",
          "text": [
            "関数の内部 10 10751144\n"
          ]
        },
        {
          "output_type": "execute_result",
          "data": {
            "text/plain": [
              "8"
            ]
          },
          "metadata": {},
          "execution_count": 17
        }
      ]
    },
    {
      "cell_type": "code",
      "source": [
        "tester()\n",
        "testfunc()\n",
        "a"
      ],
      "metadata": {
        "id": "dtY2QGLuRvIa",
        "outputId": "8023ee16-453d-4c4a-f885-e6b777bd8f84",
        "colab": {
          "base_uri": "https://localhost:8080/"
        }
      },
      "execution_count": 20,
      "outputs": [
        {
          "output_type": "stream",
          "name": "stdout",
          "text": [
            "関数の内部2 4 10750952\n",
            "関数の内部 10 10751144\n"
          ]
        },
        {
          "output_type": "execute_result",
          "data": {
            "text/plain": [
              "8"
            ]
          },
          "metadata": {},
          "execution_count": 20
        }
      ]
    },
    {
      "cell_type": "code",
      "source": [
        "testfunc()\n",
        "print(\"関数の実行後\", a, id(a))"
      ],
      "metadata": {
        "id": "fPFkunkNP9qH",
        "outputId": "e55a3ec9-f960-4ae0-a0c6-6646d390be6f",
        "colab": {
          "base_uri": "https://localhost:8080/"
        }
      },
      "execution_count": 14,
      "outputs": [
        {
          "output_type": "stream",
          "name": "stdout",
          "text": [
            "関数の内部 10 10751144\n",
            "関数の実行後 2 10750888\n"
          ]
        }
      ]
    },
    {
      "cell_type": "markdown",
      "metadata": {
        "id": "MP6mNH8rMO1x"
      },
      "source": [
        "同じモジュールスコープで定義されたグローバル変数は、関数の内側でも参照できます。また、関数の内側では、グローバル変数だけではなく、同じモジュールスコープで定義した別の関数も呼び出せます。\n",
        "\n",
        "次の例では、関数 ```func2()``` は、先に定義された関数 ```func1()``` を呼び出しています。"
      ]
    },
    {
      "cell_type": "code",
      "execution_count": null,
      "metadata": {
        "id": "BpJjTf-LMO1x",
        "outputId": "153a1d40-36af-4d50-f3d2-7c1146cd4d65"
      },
      "outputs": [
        {
          "name": "stdout",
          "output_type": "stream",
          "text": [
            "Hello func2 , this is func1.\n"
          ]
        }
      ],
      "source": [
        "def func1(name):\n",
        "    print(\"Hello\", name, \", this is func1.\")\n",
        "\n",
        "def func2():\n",
        "    func1(\"func2\")\n",
        "\n",
        "func2()"
      ]
    },
    {
      "cell_type": "markdown",
      "metadata": {
        "id": "uUUzJjuhMO1y"
      },
      "source": [
        "同様に、モジュールスコープで import したモジュールも、そのスコープで定義された関数から参照できます。\n",
        "\n",
        "の例は、モジュールスコープで import した ```time``` モジュールを関数 ```print_time()``` 内で参照し、```time.asctime()``` 関数を呼び出して現在の日付と時間を取得しています。"
      ]
    },
    {
      "cell_type": "code",
      "execution_count": null,
      "metadata": {
        "id": "4qheRTk5MO1y",
        "outputId": "ddcc17f4-7662-47d2-aded-ae814a331b01"
      },
      "outputs": [
        {
          "name": "stdout",
          "output_type": "stream",
          "text": [
            "It is Wed May 29 11:19:20 2024\n"
          ]
        }
      ],
      "source": [
        "import time\n",
        "\n",
        "def print_time():\n",
        "    # モジュールスコープで import した timeモジュールを利用\n",
        "    now = time.asctime()\n",
        "    print(\"It is\", now)\n",
        "\n",
        "print_time()"
      ]
    },
    {
      "cell_type": "markdown",
      "metadata": {
        "id": "MuDpmXISMO1y"
      },
      "source": [
        "## 引数\n",
        "\n",
        "関数を定義する際に、ヘッダの括弧の中に関数へ渡す値を引数と言います。\n",
        "\n",
        "関数を呼び出す際に引数に値を渡すことで、関数は受け取った値を処理することができます。"
      ]
    },
    {
      "cell_type": "markdown",
      "metadata": {
        "id": "xbtATycBMO1y"
      },
      "source": [
        "### キーワード引数\n",
        "\n",
        "上記の例では、事前に定義した引数の順番に従って、関数は引数を受け取っています。\n",
        "\n",
        "キーワード付き引数（キーワード引数）を使うと、関数は引数の変数名とその値の組みを受け取ることができます。 その際、引数は順不同で関数に渡すことができます。"
      ]
    },
    {
      "cell_type": "code",
      "execution_count": 21,
      "metadata": {
        "id": "HNaXinxYMO1y"
      },
      "outputs": [],
      "source": [
        "def minus_numbers(x, y):\n",
        "    result = x - y\n",
        "    return result"
      ]
    },
    {
      "cell_type": "code",
      "execution_count": 22,
      "metadata": {
        "id": "v7WL_qeVMO1y",
        "outputId": "b4edb4ad-719e-4751-ebdf-156c055938ea",
        "colab": {
          "base_uri": "https://localhost:8080/"
        }
      },
      "outputs": [
        {
          "output_type": "stream",
          "name": "stdout",
          "text": [
            "5\n"
          ]
        }
      ],
      "source": [
        "print(minus_numbers(10, 5))"
      ]
    },
    {
      "cell_type": "code",
      "execution_count": 23,
      "metadata": {
        "id": "eLcWJnSJMO1y",
        "outputId": "0064a095-6ce3-49ec-ed68-a2c862f866a7",
        "colab": {
          "base_uri": "https://localhost:8080/"
        }
      },
      "outputs": [
        {
          "output_type": "stream",
          "name": "stdout",
          "text": [
            "-5\n"
          ]
        }
      ],
      "source": [
        "print(minus_numbers(y=10, x=5))"
      ]
    },
    {
      "cell_type": "markdown",
      "metadata": {
        "id": "Ut6Lb1QWMO1y"
      },
      "source": [
        "```{margin}\n",
        "位置引数とキーワード引数の両方を使って関数を呼び出す場合には、まず先に位置引数を指定する必要があります。\n",
        "```"
      ]
    },
    {
      "cell_type": "markdown",
      "metadata": {
        "id": "jLme-pc0MO1y"
      },
      "source": [
        "### デフォルト引数値の指定\n",
        "\n",
        "デフォルト引数値は、関数の定義時に引数に初期値を指定することによって設定できます。これにより、関数を呼び出すときに引数の値を省略することができます。\n",
        "\n",
        "デフォルト引数値を指定するには、引数リスト内で引数の名前の後ろに等号と初期値を指定します。例えば、以下のように関数を定義することができます。"
      ]
    },
    {
      "cell_type": "code",
      "execution_count": 26,
      "metadata": {
        "id": "wIzM1CPBMO1y"
      },
      "outputs": [],
      "source": [
        "def greet(name, message=\"Hello\"):\n",
        "    print(f\"{message}, {name}!\")"
      ]
    },
    {
      "cell_type": "code",
      "execution_count": 27,
      "metadata": {
        "id": "5TXNNXgNMO1z",
        "outputId": "6e6501a8-fa57-4736-bd73-f1ee2ae37bb1",
        "colab": {
          "base_uri": "https://localhost:8080/"
        }
      },
      "outputs": [
        {
          "output_type": "stream",
          "name": "stdout",
          "text": [
            "Hello, Alice!\n",
            "Hi, Bob!\n",
            "Hello, Pauro!\n"
          ]
        }
      ],
      "source": [
        "greet(\"Alice\")         # \"Hello, Alice!\"\n",
        "greet(\"Bob\", \"Hi\")     # \"Hi, Bob!\"\n",
        "greet(\"Pauro\")"
      ]
    },
    {
      "cell_type": "markdown",
      "metadata": {
        "id": "eP0eLdUaMO1z"
      },
      "source": [
        "````{tab-set}\n",
        "```{tab-item} 実習問題1\n",
        "被除数と除数を指定し、割り算の結果を順番に計算する関数を作成してください。\n",
        "- 計算結果を返します\n",
        "- 計算不可能の場合、「計算できません」というエラーを表示してください\n",
        "```\n",
        "\n",
        "```{tab-item} 実習問題2\n",
        "ユークリッドの互除法の関数を作成してください。\n",
        "- 除数が$0$によるエラーを制御してください。\n",
        "- 引数に渡す値の大小関係を考慮してください\n",
        "```\n",
        "\n",
        "````"
      ]
    },
    {
      "cell_type": "code",
      "source": [
        "def culculate(x,y):\n",
        "  result = x/y\n",
        "  if result == 0:\n",
        "    print(\"計算できません\")\n",
        "  else:\n",
        "    return result\n",
        "\n",
        "culculate(3,5)"
      ],
      "metadata": {
        "id": "VgJ2b9QUSmRL",
        "outputId": "85d7de24-9963-4578-a593-1496b0d4b008",
        "colab": {
          "base_uri": "https://localhost:8080/"
        }
      },
      "execution_count": 31,
      "outputs": [
        {
          "output_type": "execute_result",
          "data": {
            "text/plain": [
              "0.6"
            ]
          },
          "metadata": {},
          "execution_count": 31
        }
      ]
    },
    {
      "cell_type": "code",
      "source": [
        "x= 10\n",
        "y=5\n",
        "try:                          #一度やってみるてきな命令\n",
        "  print(x/y)\n",
        "except ZeroDivisionError:     #もし成功しなかったら（0になってしまったら）の命令\n",
        "    print(\"計算できません\")"
      ],
      "metadata": {
        "id": "gS0oeUjiVgU6",
        "outputId": "bc8f5c67-c6ea-40ec-c8bd-8e0361357228",
        "colab": {
          "base_uri": "https://localhost:8080/"
        }
      },
      "execution_count": 37,
      "outputs": [
        {
          "output_type": "stream",
          "name": "stdout",
          "text": [
            "2.0\n"
          ]
        }
      ]
    },
    {
      "cell_type": "code",
      "source": [
        "def division(x,y):\n",
        "  try:\n",
        "    return x/y\n",
        "  except ZeroDivisionError:\n",
        "    print(\"計算できません\")\n",
        "\n",
        "division(5,10)"
      ],
      "metadata": {
        "id": "D1-24pYHWGgh",
        "outputId": "1c7d0129-0d36-4cae-d589-406ec206bdd2",
        "colab": {
          "base_uri": "https://localhost:8080/"
        }
      },
      "execution_count": 40,
      "outputs": [
        {
          "output_type": "execute_result",
          "data": {
            "text/plain": [
              "0.5"
            ]
          },
          "metadata": {},
          "execution_count": 40
        }
      ]
    },
    {
      "cell_type": "code",
      "source": [
        "def euclidean(x,y):\n",
        "  result = x%y\n",
        "  if result == 0:\n",
        "    print(\"nonresult\")\n",
        "  else:\n",
        "    return result\n",
        "\n",
        "euclidean(252, 5)"
      ],
      "metadata": {
        "id": "DR9O-sawTxj0",
        "outputId": "3a826430-3034-4ec5-c1d0-ef921f4b9548",
        "colab": {
          "base_uri": "https://localhost:8080/"
        }
      },
      "execution_count": 43,
      "outputs": [
        {
          "output_type": "execute_result",
          "data": {
            "text/plain": [
              "2"
            ]
          },
          "metadata": {},
          "execution_count": 43
        }
      ]
    },
    {
      "cell_type": "code",
      "source": [
        "a = 2485\n",
        "b = 1162\n",
        "\n",
        "while b != 0:\n",
        "  print(f\"{a} ÷ {b} = { a //b } 余り {a % b}\")\n",
        "  remainder = a % b\n",
        "  a = b\n",
        "  b = remainder\n",
        "\n",
        "print(f\"最大公約数は {a} です\")"
      ],
      "metadata": {
        "id": "qKsX5HaoWbr8",
        "outputId": "e573bef8-3d98-42c6-ef9e-a2fc98f9f2aa",
        "colab": {
          "base_uri": "https://localhost:8080/"
        }
      },
      "execution_count": 44,
      "outputs": [
        {
          "output_type": "stream",
          "name": "stdout",
          "text": [
            "2485 ÷ 1162 = 2 余り 161\n",
            "1162 ÷ 161 = 7 余り 35\n",
            "161 ÷ 35 = 4 余り 21\n",
            "35 ÷ 21 = 1 余り 14\n",
            "21 ÷ 14 = 1 余り 7\n",
            "14 ÷ 7 = 2 余り 0\n",
            "最大公約数は 7 です\n"
          ]
        }
      ]
    },
    {
      "cell_type": "code",
      "source": [
        "def euclidean_algorithm(a, b):\n",
        "    while b != 0:\n",
        "      print(f\"{a} ÷ {b} = { a //b } 余り {a % b}\")\n",
        "      remainder = a % b\n",
        "      a = b\n",
        "      b = remainder\n",
        "    return a\n",
        "\n",
        "result = euclidean_algorithm(2485, 1162)"
      ],
      "metadata": {
        "id": "ne1vYIqAXJFB",
        "outputId": "664bfadc-d39d-4633-de41-a4d892a2705d",
        "colab": {
          "base_uri": "https://localhost:8080/"
        }
      },
      "execution_count": 47,
      "outputs": [
        {
          "output_type": "stream",
          "name": "stdout",
          "text": [
            "2485 ÷ 1162 = 2 余り 161\n",
            "1162 ÷ 161 = 7 余り 35\n",
            "161 ÷ 35 = 4 余り 21\n",
            "35 ÷ 21 = 1 余り 14\n",
            "21 ÷ 14 = 1 余り 7\n",
            "14 ÷ 7 = 2 余り 0\n"
          ]
        }
      ]
    },
    {
      "cell_type": "markdown",
      "metadata": {
        "id": "r7GxW3eRMO1z"
      },
      "source": [
        "### ```*```による位置引数の分解・接合(タプル化)\n",
        "\n",
        "関数定義の中で引数の一部として```*```を使うと、可変個の位置引数がタプルにまとめられてその引数にセットされるようになる。\n",
        "\n",
        "この機能は、関数に異なる数の引数を渡す時に便利です。"
      ]
    },
    {
      "cell_type": "code",
      "execution_count": null,
      "metadata": {
        "id": "l64mglzNMO1z"
      },
      "outputs": [],
      "source": [
        "def sum_all_numbers(*args):\n",
        "    result = 0\n",
        "    for i in args:\n",
        "        print(i) # argsの中身を確認\n",
        "        result += i\n",
        "    return result"
      ]
    },
    {
      "cell_type": "markdown",
      "metadata": {
        "id": "VJAb2x0oMO1z"
      },
      "source": [
        "```{margin}\n",
        "```*args```以外、```*params```など任意の名前を使っても良いですが、```*args```を使う習慣になっています。\n",
        "```"
      ]
    },
    {
      "cell_type": "code",
      "execution_count": null,
      "metadata": {
        "id": "fRRsgtPfMO1z",
        "outputId": "9c2d6a5b-f34b-462d-896c-b4843e35d192"
      },
      "outputs": [
        {
          "name": "stdout",
          "output_type": "stream",
          "text": [
            "1\n",
            "2\n",
            "3\n",
            "4\n",
            "5\n"
          ]
        },
        {
          "data": {
            "text/plain": [
              "15"
            ]
          },
          "execution_count": 5,
          "metadata": {},
          "output_type": "execute_result"
        }
      ],
      "source": [
        "sum_all_numbers(1,2,3,4,5)"
      ]
    },
    {
      "cell_type": "markdown",
      "metadata": {
        "id": "EoyJl0H1MO1z"
      },
      "source": [
        "### ```**```によるキーワード引数の分解・接合(辞書化)\n",
        "\n",
        "可変個のキーワード引数は、関数定義の中でキーワード引数の数が可変であることを指定する方法です。\n",
        "\n",
        "２つのアスタリスク(```**```)を使えば、キーワード引数を1個の辞書にまとめることができます。\n",
        "引数の名前は辞書のキー、引数の値は辞書の値になっています。"
      ]
    },
    {
      "cell_type": "code",
      "execution_count": null,
      "metadata": {
        "id": "mY0NDBASMO1z"
      },
      "outputs": [],
      "source": [
        "def print_kwargs(**kwargs):\n",
        "    for key, value in kwargs.items():\n",
        "        print(key, value)"
      ]
    },
    {
      "cell_type": "code",
      "execution_count": null,
      "metadata": {
        "id": "bLgr0YGUMO1z",
        "outputId": "34370203-7957-4c54-ac86-cf7cb5bd6383"
      },
      "outputs": [
        {
          "name": "stdout",
          "output_type": "stream",
          "text": [
            "a 1\n",
            "b 2\n",
            "c 3\n"
          ]
        }
      ],
      "source": [
        "print_kwargs(a=1, b=2, c=3)"
      ]
    },
    {
      "cell_type": "markdown",
      "metadata": {
        "id": "bIdoCUwhMO10"
      },
      "source": [
        "```{note} 引数の順番\n",
        "関数の命名は基本的には自由ですが、以下のような慣習があります。\n",
        "1. 位置引数　: 関数定義で明示的に指定された引数です。位置引数は、引数の順序に基づいて値が関数に渡されます。\n",
        "2. キーワード引数: 引数の名前と値をペアとして指定する引数です。キーワード引数は、引数の名前を指定して値を関数に渡すことができます。\n",
        "3. 可変個の位置引数: 位置引数として渡された値は、タプルとして関数内で利用できます。\n",
        "4. キーワード引数: キーワード引数として渡された値は、辞書として関数内で利用できます。\n",
        "```"
      ]
    },
    {
      "cell_type": "markdown",
      "metadata": {
        "id": "025r65HvMO10"
      },
      "source": [
        "````{tab-set}\n",
        "```{tab-item} 実習問題\n",
        "複数の商品とその価格を受け取り、価格の合計を計算する関数を作成してください。\n",
        "```\n",
        "````"
      ]
    },
    {
      "cell_type": "markdown",
      "metadata": {
        "id": "3udKGAFsMO10"
      },
      "source": [
        "```\n",
        "def calculation():\n",
        "\n",
        "    return total\n",
        "\n",
        "\n",
        "calculate_total(apple=300, orange=400, banana=100)\n",
        "\n",
        "```"
      ]
    },
    {
      "cell_type": "markdown",
      "metadata": {
        "id": "cYhthQSVMO15"
      },
      "source": [
        "## ラムダ関数\n",
        "\n",
        "ラムダ関数は、簡潔な関数を一行で定義するための手法です。\n",
        "\n",
        "関数を定義するための従来の```def```キーワードを使用せずに、```lambda```キーワードを用いて直接関数を記述します。\n",
        "\n",
        "ラムダ関数の一般的な構文は以下の通りです：\n",
        "```\n",
        "lambda arguments: expression\n",
        "```\n",
        "ここで、```arguments```関数の引数を表し、```expression```は引数を使って実行する式です。"
      ]
    },
    {
      "cell_type": "code",
      "execution_count": null,
      "metadata": {
        "id": "BLV25tVcMO15",
        "outputId": "f7676679-716e-4bad-b126-ba1178eb95c8"
      },
      "outputs": [
        {
          "name": "stdout",
          "output_type": "stream",
          "text": [
            "8\n"
          ]
        }
      ],
      "source": [
        "# 2つの数値を加算するラムダ関数\n",
        "add = lambda x, y: x + y\n",
        "print(add(3, 5))"
      ]
    },
    {
      "cell_type": "code",
      "execution_count": null,
      "metadata": {
        "id": "z3SeJq21MO15",
        "outputId": "42459bcd-f993-4741-99f7-26a985d790ef"
      },
      "outputs": [
        {
          "name": "stdout",
          "output_type": "stream",
          "text": [
            "True\n",
            "False\n"
          ]
        }
      ],
      "source": [
        "# 与えられた数が偶数かどうかを判定するラムダ関数:\n",
        "is_even = lambda x: x % 2 == 0\n",
        "print(is_even(4))  # 出力: True\n",
        "print(is_even(7))  # 出力: False"
      ]
    },
    {
      "cell_type": "markdown",
      "metadata": {
        "id": "eTfYz7IsMO16"
      },
      "source": [
        "````{tab-set}\n",
        "```{tab-item} 実習問題1\n",
        "整数のリストが与えられたとき、そのリストから偶数の要素のみをフィルタリングするラムダ関数を作成してください。\n",
        "```\n",
        "\n",
        "```{tab-item} 実習問題2\n",
        "浮動小数点数のリストが与えられたとき、そのリストの要素の平均値を計算するラムダ関数を作成してください。\n",
        "```\n",
        "````"
      ]
    }
  ],
  "metadata": {
    "kernelspec": {
      "display_name": "jupyterbook",
      "language": "python",
      "name": "python3"
    },
    "language_info": {
      "codemirror_mode": {
        "name": "ipython",
        "version": 3
      },
      "file_extension": ".py",
      "mimetype": "text/x-python",
      "name": "python",
      "nbconvert_exporter": "python",
      "pygments_lexer": "ipython3",
      "version": "3.9.6"
    },
    "orig_nbformat": 4,
    "colab": {
      "provenance": []
    }
  },
  "nbformat": 4,
  "nbformat_minor": 0
}