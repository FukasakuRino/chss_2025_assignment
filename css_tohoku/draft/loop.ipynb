{
  "cells": [
    {
      "cell_type": "markdown",
      "metadata": {
        "id": "lYSD8PktIKxg"
      },
      "source": [
        "# ループ"
      ]
    },
    {
      "cell_type": "markdown",
      "metadata": {
        "id": "ZHzELHIAIKxm"
      },
      "source": [
        "プログラムでは、同じ処理を繰り返し行いたい（ループさせたい）ことが多くあります。\n"
      ]
    },
    {
      "cell_type": "markdown",
      "metadata": {
        "id": "Psqm3lgFIKxn"
      },
      "source": [
        "## 基本的なループ構造\n"
      ]
    },
    {
      "cell_type": "markdown",
      "metadata": {
        "id": "J_U8V3uWIKxn"
      },
      "source": [
        "### forループ"
      ]
    },
    {
      "cell_type": "markdown",
      "metadata": {
        "id": "7j6mz3UJIKxn"
      },
      "source": [
        "```for```ループはリストやタプルといった集合的データ構造に対して、それぞれの要素に順番に処理するために用いられます。"
      ]
    },
    {
      "cell_type": "code",
      "execution_count": null,
      "metadata": {
        "id": "X_VN9VljIKxo",
        "outputId": "a1c37100-d334-4c91-9057-fbf31bcbcd9f"
      },
      "outputs": [
        {
          "name": "stdout",
          "output_type": "stream",
          "text": [
            "a\n",
            "b\n",
            "c\n",
            "d\n",
            "e\n"
          ]
        }
      ],
      "source": [
        "t=['a','b','c','d','e']\n",
        "for i in t:\n",
        "    print (i)"
      ]
    },
    {
      "cell_type": "markdown",
      "metadata": {
        "id": "xT8eC49DIKxq"
      },
      "source": [
        "### ```range()```"
      ]
    },
    {
      "cell_type": "markdown",
      "metadata": {
        "id": "suwCh5brIKxq"
      },
      "source": [
        "```range()```という関数を使うと連続する数値からなるデータを得ることができますので、これを用いてfor文を書くことができます。主な目的は、ループの回数を指定したり、リストやタプルを作成したりする際に範囲を指定することです。\n",
        "\n",
        "```range(start, stop, step)```\n",
        "\n",
        "- ```start```: 範囲の開始値を指定します（デフォルトは$0$）\n",
        "- ```stop```:  範囲の終了値を指定します（指定した値より小さい値まで範囲が生成されます）\n",
        "- ```step```: 範囲内の値の間隔を指定します（デフォルトは$1$）"
      ]
    },
    {
      "cell_type": "code",
      "execution_count": null,
      "metadata": {
        "id": "NesHZl78IKxr",
        "outputId": "4c03c7c5-4909-40f8-8b22-f74bb295456a"
      },
      "outputs": [
        {
          "name": "stdout",
          "output_type": "stream",
          "text": [
            "1\n",
            "2\n",
            "3\n",
            "4\n",
            "5\n"
          ]
        }
      ],
      "source": [
        "for i in range(1,6):\n",
        "  print (i)"
      ]
    },
    {
      "cell_type": "code",
      "execution_count": null,
      "metadata": {
        "id": "yJCBWNFQIKxs",
        "outputId": "8ef1420a-9e46-4cf7-88d0-7c6230a8eb9d"
      },
      "outputs": [
        {
          "name": "stdout",
          "output_type": "stream",
          "text": [
            "0\n",
            "1\n",
            "2\n",
            "3\n",
            "4\n",
            "5\n"
          ]
        }
      ],
      "source": [
        "#startを省略した場合、デフォルトで0から開始されます。\n",
        "for i in range(6):\n",
        "  print (i)"
      ]
    },
    {
      "cell_type": "code",
      "execution_count": null,
      "metadata": {
        "id": "u5h-cAyaIKxs",
        "outputId": "868d335b-358c-4ea1-9e4a-9592eed604d0"
      },
      "outputs": [
        {
          "name": "stdout",
          "output_type": "stream",
          "text": [
            "1\n",
            "3\n",
            "5\n"
          ]
        }
      ],
      "source": [
        "for i in range(1,6,2):\n",
        "  print (i)"
      ]
    },
    {
      "cell_type": "markdown",
      "metadata": {
        "id": "83Orl4bRIKxt"
      },
      "source": [
        "### ```while```文によるループ\n",
        "\n",
        "```while```文には、与えられたループ条件とループ対象のコードブロックを記述します。\n",
        "\n",
        "```while```文では```while```の後の条件式が```False```となるまで、もしくはループが```break```により明示的に終了させられるまで、そのブロックが繰り返し実行されます。"
      ]
    },
    {
      "cell_type": "code",
      "execution_count": null,
      "metadata": {
        "id": "qEUAW67KIKxt",
        "outputId": "4bb08aed-c855-4bd1-d70c-6eee43c3863f"
      },
      "outputs": [
        {
          "name": "stdout",
          "output_type": "stream",
          "text": [
            "2 1\n",
            "3 3\n",
            "4 6\n",
            "5 10\n",
            "6 15\n",
            "7 21\n",
            "8 28\n",
            "9 36\n",
            "10 45\n",
            "11 55\n"
          ]
        }
      ],
      "source": [
        "x = 1\n",
        "total = 0\n",
        "while x <= 10:\n",
        "    total += x\n",
        "    x += 1\n",
        "    print(x, total)"
      ]
    },
    {
      "cell_type": "code",
      "execution_count": null,
      "metadata": {
        "id": "OO9SjgcGIKxu",
        "outputId": "5d46f8d6-ad6f-4cbc-cc93-f821770aac50"
      },
      "outputs": [
        {
          "name": "stdout",
          "output_type": "stream",
          "text": [
            "128 256\n",
            "64 384\n",
            "32 448\n",
            "16 480\n",
            "8 496\n",
            "4 504\n"
          ]
        }
      ],
      "source": [
        "x=256\n",
        "total=0\n",
        "while x>0:\n",
        "    if total>500:\n",
        "        break\n",
        "    total+=x\n",
        "    x=x//2\n",
        "    print(x, total)"
      ]
    },
    {
      "cell_type": "markdown",
      "metadata": {
        "id": "x6BLQimBIKxv"
      },
      "source": [
        "## 発展的なループの使い方"
      ]
    },
    {
      "cell_type": "markdown",
      "metadata": {
        "id": "QeVwOntqIKxv"
      },
      "source": [
        "### ループ内の制御構造\n",
        "\n",
        "ある特定の条件が満たされた場合に、ループを途中で抜けたり、終わらせたくなるときがあります。これにより、柔軟にプログラムを取り組むことができます。\n",
        "\n",
        "#### ```continue```\n",
        "\n",
        "```continue```は以後の処理をとばして次の処理へいきます。以下の例では、```item==3```のとき、```print(item)```を飛ばして、```item==4```となるループに進みます。"
      ]
    },
    {
      "cell_type": "code",
      "execution_count": null,
      "metadata": {
        "id": "iU1gYTi-IKxv",
        "outputId": "9b74b1db-ff53-4c6f-aada-20c31ff964ba"
      },
      "outputs": [
        {
          "name": "stdout",
          "output_type": "stream",
          "text": [
            "a\n",
            "b\n",
            "d\n",
            "e\n"
          ]
        }
      ],
      "source": [
        "for item in t:\n",
        "    if item=='c':\n",
        "        continue\n",
        "    print (item)"
      ]
    },
    {
      "cell_type": "markdown",
      "metadata": {
        "id": "BQVQnTPXIKxv"
      },
      "source": [
        "#### ```break```\n",
        "\n",
        "```break```はループ自体を終了します。下の例では、```item==c```のときは```break```となり、ループが終了します。"
      ]
    },
    {
      "cell_type": "code",
      "execution_count": null,
      "metadata": {
        "id": "7lBBAVP8IKxw",
        "outputId": "10e2c5d1-badf-4704-a9bc-c216de1c0ab3"
      },
      "outputs": [
        {
          "name": "stdout",
          "output_type": "stream",
          "text": [
            "a\n",
            "b\n"
          ]
        }
      ],
      "source": [
        "for item in t:\n",
        "    if item=='c':\n",
        "        break\n",
        "    print (item)"
      ]
    },
    {
      "cell_type": "markdown",
      "metadata": {
        "id": "8pSWshVIIKxw"
      },
      "source": [
        "#### ```pass```\n",
        "\n",
        "```pass```は「何もしない」ことを示す命令です。コードブロック内で必要なアクションがないことを示す時でよく用いられます。"
      ]
    },
    {
      "cell_type": "code",
      "execution_count": null,
      "metadata": {
        "id": "4APXL3FjIKxw",
        "outputId": "daedddf2-e1a4-4e73-ec08-af02437687f6"
      },
      "outputs": [
        {
          "name": "stdout",
          "output_type": "stream",
          "text": [
            "a\n",
            "b\n",
            "c\n",
            "d\n",
            "e\n"
          ]
        }
      ],
      "source": [
        "for item in t:\n",
        "    if item=='c':\n",
        "        pass\n",
        "    print (item)"
      ]
    },
    {
      "cell_type": "markdown",
      "metadata": {
        "id": "mnztWzvbIKxw"
      },
      "source": [
        "````{tab-set}\n",
        "```{tab-item} 実習問題\n",
        "ここで、ユークリッドの互除法というアルゴリズムの実装にトライしてみましょう。\n",
        "\n",
        "ユークリッドの互除法とは、2つの整数、aとbの最大公約数を求めるアルゴリズムです。例えば、2485と1162の最大公約数を求めたい場合\n",
        "\n",
        "$2485 \\div 1162 = 2 余り 161$\n",
        "\n",
        "$1162 \\div 161 = 7 余り 35$\n",
        "\n",
        "$161 \\div 35 = 4 余り 21$\n",
        "\n",
        "$35 \\div 21 = 1 余り 14$\n",
        "\n",
        "$21 \\div 14 = 1 余り 7$\n",
        "\n",
        "$14 \\div 7 = 2 余り 0$\n",
        "\n",
        "割る数と余りを次回の割られる数と割る数にして、次々と計算し、最後に割り切れたら終わりで、最後の割る数が最大公約数です。\n",
        "\n",
        "```\n",
        "````"
      ]
    },
    {
      "cell_type": "code",
      "execution_count": null,
      "metadata": {
        "id": "ZrCf7dSvIKxw"
      },
      "outputs": [],
      "source": [
        "#答え\n",
        "a = 2485\n",
        "b = 1162"
      ]
    },
    {
      "cell_type": "markdown",
      "metadata": {
        "id": "n5UI69gyIKxx"
      },
      "source": [
        "### 例外処理\n",
        "\n",
        "プログラムが実行されると、実行中に予期しないエラーが発生することがあります。この場合、プログラムは停止してしまいます。\n",
        "\n",
        "「エラーを無視してとにかくプログラムを最後まで実行させたい」「エラーが起こるときにエラーを回避するような仕組みをプログラム自体に実装したい」といった状況もあります。\n",
        "\n",
        "```try-except```文を使用すると、エラーが発生した場合に特定の処理を実行し、プログラムの実行を継続することができます。\n",
        "\n",
        "```try-except```文の基本的な構文は以下のとおりです。\n",
        "- ```try```ブロック内には、エラーが発生する可能性があるコードが含まれます。\n",
        "\n",
        "- エラーが発生しない場合は、```except```ブロックは実行されません。\n",
        "\n",
        "- エラーが発生した場合は、対応する```except```ブロックが実行されます。\n",
        "\n",
        "```\n",
        "try:\n",
        "    # ここにエラーが発生する可能性のあるコードを書く\n",
        "except <エラーの種類>:\n",
        "    # エラーが発生した場合に実行されるコードを書く\n",
        "\n",
        "```"
      ]
    },
    {
      "cell_type": "code",
      "execution_count": null,
      "metadata": {
        "id": "TkwX8eZXIKxx",
        "outputId": "c0509989-5b51-4e9c-b06c-983573e3fc42"
      },
      "outputs": [
        {
          "name": "stdout",
          "output_type": "stream",
          "text": [
            "1.0\n",
            "2.0\n",
            "4.0\n"
          ]
        },
        {
          "ename": "ValueError",
          "evalue": "math domain error",
          "output_type": "error",
          "traceback": [
            "\u001b[0;31m---------------------------------------------------------------------------\u001b[0m",
            "\u001b[0;31mValueError\u001b[0m                                Traceback (most recent call last)",
            "Cell \u001b[0;32mIn[15], line 5\u001b[0m\n\u001b[1;32m      3\u001b[0m \u001b[38;5;66;03m#for i in range(20):\u001b[39;00m\n\u001b[1;32m      4\u001b[0m \u001b[38;5;28;01mfor\u001b[39;00m i \u001b[38;5;129;01min\u001b[39;00m s:\n\u001b[0;32m----> 5\u001b[0m     \u001b[38;5;28mprint\u001b[39m(\u001b[43mmath\u001b[49m\u001b[38;5;241;43m.\u001b[39;49m\u001b[43msqrt\u001b[49m\u001b[43m(\u001b[49m\u001b[43mi\u001b[49m\u001b[43m)\u001b[49m) \n",
            "\u001b[0;31mValueError\u001b[0m: math domain error"
          ]
        }
      ],
      "source": [
        "import math #sqrt(square root)関数を使うための1行\n",
        "s = [1,4,16,-25,36,49,64,81,100,121,144]\n",
        "#for i in range(20):\n",
        "for i in s:\n",
        "    print(math.sqrt(i))"
      ]
    },
    {
      "cell_type": "code",
      "execution_count": null,
      "metadata": {
        "id": "DLzuIaO7IKxx",
        "outputId": "a9073992-3945-4e2d-b492-2c80847d7ab0"
      },
      "outputs": [
        {
          "name": "stdout",
          "output_type": "stream",
          "text": [
            "1.0\n",
            "2.0\n",
            "4.0\n",
            "値が-25になったのでsqrtが計算できません\n",
            "6.0\n",
            "7.0\n",
            "8.0\n",
            "9.0\n",
            "10.0\n",
            "11.0\n",
            "12.0\n"
          ]
        }
      ],
      "source": [
        "import math\n",
        "s = [1,4,16,-25,36,49,64,81,100,121,144]\n",
        "for i in s:\n",
        "    try:\n",
        "        print(math.sqrt(i))\n",
        "    except :\n",
        "        print(\"値が\"+str(i)+\"になったのでsqrtが計算できません\")"
      ]
    },
    {
      "cell_type": "code",
      "execution_count": null,
      "metadata": {
        "id": "ppzkpfcOIKxx",
        "outputId": "f0d7faec-19f3-426f-e705-257d60ea5bb0"
      },
      "outputs": [
        {
          "name": "stdout",
          "output_type": "stream",
          "text": [
            "1.0\n",
            "2.0\n",
            "4.0\n",
            "6.0\n",
            "7.0\n",
            "8.0\n",
            "9.0\n",
            "10.0\n",
            "11.0\n",
            "12.0\n"
          ]
        }
      ],
      "source": [
        "s = [1,4,16,-25,36,49,64,81,100,121,144]\n",
        "for i in s:\n",
        "    try:\n",
        "        print(math.sqrt(i))\n",
        "    except :\n",
        "        continue"
      ]
    },
    {
      "cell_type": "markdown",
      "metadata": {
        "id": "dd7giUiEIKxx"
      },
      "source": [
        "````{tab-set}\n",
        "```{tab-item} 実習問題\n",
        "被除数が100である場合、リストの値を除数とする割り算の結果を順番に計算するプログラムを実装してください。\n",
        "- 計算結果を```print```で表示してください\n",
        "- 計算不可能の場合、ラーメッセージだけを表示してエラーが起きた回数をカウントし、計算を続けてください\n",
        "```\n",
        "````"
      ]
    },
    {
      "cell_type": "markdown",
      "metadata": {
        "id": "J9c8Ozc-IKxx"
      },
      "source": [
        "### ```enumerate```\n",
        "\n",
        "```for```文の繰り返し処理では、要素の順序を把握したいことがあります。\n",
        "\n",
        "```enumerate()```関数を利用することで、```for```文内のループ処理にインデックス番号を付与できるのです。\n",
        "\n",
        "例えば、2つの変数 ```i```, ```d``` が指定されています。 ```i``` には $0, 1, 2, …$ が順に代入されます。 ```val``` にはリストの要素が順に代入されます。\n",
        "\n"
      ]
    },
    {
      "cell_type": "code",
      "execution_count": 1,
      "metadata": {
        "id": "2hftf_GWIKxx",
        "outputId": "0e076458-e2eb-46d4-d398-4c63b515dc50",
        "colab": {
          "base_uri": "https://localhost:8080/"
        }
      },
      "outputs": [
        {
          "output_type": "stream",
          "name": "stdout",
          "text": [
            "インデックス: 0 内容: 1番目\n",
            "インデックス: 1 内容: 2番目\n",
            "インデックス: 2 内容: 3番目\n"
          ]
        }
      ],
      "source": [
        "my_array = [ '1番目', '2番目', '3番目']\n",
        "for i, d in enumerate(my_array):\n",
        "    print('インデックス: ' + str(i) + ' 内容: ' + d )"
      ]
    },
    {
      "cell_type": "markdown",
      "metadata": {
        "id": "Z98Z8od8IKxx"
      },
      "source": [
        "````{tab-set}\n",
        "```{tab-item} 実習問題\n",
        "以下にリストに基づいて、リストの要素を値、そのインデックスをキーとする辞書を作ってくだい。\n",
        "```\n",
        "````"
      ]
    },
    {
      "cell_type": "code",
      "source": [
        "l_dict={}\n",
        "l_dict[0]='Marx'\n",
        "l_dict[1]='Weber'\n",
        "l_dict[2]='Durkheim'\n",
        "l_dict[3]='Parsons'\n",
        "l_dict[4]='Merton'\n",
        "print(l_dict)"
      ],
      "metadata": {
        "id": "nR2vFeLCITCX",
        "outputId": "a0aaf71e-d488-48c7-b8ac-df0d1b2cbd4e",
        "colab": {
          "base_uri": "https://localhost:8080/"
        }
      },
      "execution_count": 2,
      "outputs": [
        {
          "output_type": "stream",
          "name": "stdout",
          "text": [
            "{0: 'Marx', 1: 'Weber', 2: 'Durkheim', 3: 'Parsons', 4: 'Merton'}\n"
          ]
        }
      ]
    },
    {
      "cell_type": "code",
      "execution_count": 7,
      "metadata": {
        "id": "SLDBMj_HIKxx",
        "outputId": "93b952c2-03fc-4d36-ae03-5dba06725403",
        "colab": {
          "base_uri": "https://localhost:8080/"
        }
      },
      "outputs": [
        {
          "output_type": "stream",
          "name": "stdout",
          "text": [
            "{0: 'Marx', 1: 'Weber', 2: 'Durkheim', 3: 'Parsons', 4: 'Merton'}\n"
          ]
        }
      ],
      "source": [
        "#答え\n",
        "l = ['Marx', 'Weber', 'Durkheim', 'Parsons', 'Merton']\n",
        "l_dict={}\n",
        "for i, v in enumerate(l):\n",
        "    l_dict[i]=v\n",
        "print(l_dict)"
      ]
    },
    {
      "cell_type": "markdown",
      "metadata": {
        "id": "505XTFTXIKxy"
      },
      "source": [
        "### ```zip```"
      ]
    },
    {
      "cell_type": "markdown",
      "metadata": {
        "id": "x8qoH-bIIKxy"
      },
      "source": [
        "```zip()```関数は、複数のイテラブル（リスト、タプル、セット、文字列など）から、要素をまとめて取り出すために使用される組み込み関数です。\n",
        "\n",
        "具体的に言えば、対応する位置の要素をタプルにまとめ、新しいイテラブルなオブジェクトを作成します。\n",
        "\n",
        "各タプルは、元のイテラブルの要素の数に基づいて作成されます。要素の数が一致しない場合は、最短のイテラブルに基づいてzipオブジェクトが作成されます。\n"
      ]
    },
    {
      "cell_type": "code",
      "execution_count": 8,
      "metadata": {
        "id": "_7hKCqeXIKxy",
        "outputId": "9546297a-616c-4697-b3e5-1a6ec95b955a",
        "colab": {
          "base_uri": "https://localhost:8080/"
        }
      },
      "outputs": [
        {
          "output_type": "stream",
          "name": "stdout",
          "text": [
            "(1, 'a')\n",
            "(2, 'b')\n",
            "(3, 'c')\n"
          ]
        }
      ],
      "source": [
        "numbers = [1, 2, 3]\n",
        "letters = ['a', 'b', 'c']\n",
        "zipped = zip(numbers, letters)\n",
        "for pair in zipped:\n",
        "    print(pair)"
      ]
    },
    {
      "cell_type": "markdown",
      "metadata": {
        "id": "5j87Hgv5IKxy"
      },
      "source": [
        "```zip()```関数は、新しいタプルを生成するために、各イテラブルの要素を1つずつ取り出し、ループをすることができます。\n",
        "\n",
        "例えば、```zip()```関数を使用して、複数のリストでループを実行することができます。"
      ]
    },
    {
      "cell_type": "code",
      "execution_count": 9,
      "metadata": {
        "id": "D6y61uH3IKxy"
      },
      "outputs": [],
      "source": [
        "numbers = [1, 2, 3]\n",
        "letters = ['a', 'b', 'c']"
      ]
    },
    {
      "cell_type": "code",
      "execution_count": 10,
      "metadata": {
        "id": "YaOvAFwZIKxy",
        "outputId": "5766ce96-ecee-4da0-fbe0-98cb1d03e76c",
        "colab": {
          "base_uri": "https://localhost:8080/"
        }
      },
      "outputs": [
        {
          "output_type": "stream",
          "name": "stdout",
          "text": [
            "1 a\n",
            "2 b\n",
            "3 c\n"
          ]
        }
      ],
      "source": [
        "for i, j in zip(numbers, letters):\n",
        "    print(i, j)"
      ]
    },
    {
      "cell_type": "code",
      "execution_count": 11,
      "metadata": {
        "id": "j0-VJPxxIKxy",
        "outputId": "7927c77a-a7f0-435e-d28b-7f915fc38657",
        "colab": {
          "base_uri": "https://localhost:8080/"
        }
      },
      "outputs": [
        {
          "output_type": "stream",
          "name": "stdout",
          "text": [
            "a 1\n",
            "b 2\n",
            "c 3\n"
          ]
        }
      ],
      "source": [
        "for i, j in zip(numbers, letters):\n",
        "    print(j, i)"
      ]
    },
    {
      "cell_type": "markdown",
      "metadata": {
        "id": "s2YCIA9fIKx3"
      },
      "source": [
        "````{tab-set}\n",
        "```{tab-item} 実習問題\n",
        "2つのリストをzip関数を使ってループし、各リストの要素を合計し、その結果を新しいリストに格納するプログラムを作成してください。\n",
        "```\n",
        "````"
      ]
    },
    {
      "cell_type": "code",
      "source": [
        "#答え\n",
        "list_a = [1, 2, 3, 4, 5]\n",
        "list_b = [6, 7, 8, 9, 10]\n",
        "for i, j in zip(list_a, list_b):\n",
        "    sum_list2 = i + j\n",
        "sum_list2"
      ],
      "metadata": {
        "id": "RtqSj509Kysr",
        "outputId": "13924e07-eca6-4731-a049-eba3d1cbd692",
        "colab": {
          "base_uri": "https://localhost:8080/"
        }
      },
      "execution_count": 22,
      "outputs": [
        {
          "output_type": "execute_result",
          "data": {
            "text/plain": [
              "15"
            ]
          },
          "metadata": {},
          "execution_count": 22
        }
      ]
    },
    {
      "cell_type": "code",
      "execution_count": 19,
      "metadata": {
        "id": "keZSsGOeIKx3",
        "outputId": "ea185a2a-9b6d-49a8-fd18-01edf6ab0019",
        "colab": {
          "base_uri": "https://localhost:8080/"
        }
      },
      "outputs": [
        {
          "output_type": "execute_result",
          "data": {
            "text/plain": [
              "[7, 9, 11, 13, 15]"
            ]
          },
          "metadata": {},
          "execution_count": 19
        }
      ],
      "source": [
        "#答え\n",
        "list_a = [1, 2, 3, 4, 5]\n",
        "list_b = [6, 7, 8, 9, 10]\n",
        "sum_list = []\n",
        "for i,j in zip(list_a, list_b):\n",
        "    sum_list.append(i+j)\n",
        "sum_list"
      ]
    },
    {
      "cell_type": "markdown",
      "metadata": {
        "id": "VBxIgsA4IKx3"
      },
      "source": [
        "### 辞書のループ処理"
      ]
    },
    {
      "cell_type": "markdown",
      "metadata": {
        "id": "qHwkpqtOIKx3"
      },
      "source": [
        "辞書の要素にわたって操作はよくあります。"
      ]
    },
    {
      "cell_type": "markdown",
      "metadata": {
        "id": "3P83WeJiIKx4"
      },
      "source": [
        "- 辞書 の全てのキーを変数```key```に代入しながら、実行文を繰り返すには次のように書きます。"
      ]
    },
    {
      "cell_type": "code",
      "execution_count": 23,
      "metadata": {
        "id": "BNGp7QgzIKx4"
      },
      "outputs": [],
      "source": [
        "nation={'Marx': 'German',\n",
        " 'Weber': 'German',\n",
        " 'Durkheim': 'France',\n",
        " 'Parsons': 'America',\n",
        " 'Merton': 'America',\n",
        " 'Goffman': 'America',\n",
        " 'Habermas': 'Germany'}"
      ]
    },
    {
      "cell_type": "code",
      "execution_count": 24,
      "metadata": {
        "id": "HYvhTzjiIKx4",
        "outputId": "527de7c7-e56a-46d7-9f11-ba6c6a8be62e",
        "colab": {
          "base_uri": "https://localhost:8080/"
        }
      },
      "outputs": [
        {
          "output_type": "stream",
          "name": "stdout",
          "text": [
            "Name: Marx , Nationality: German\n",
            "Name: Weber , Nationality: German\n",
            "Name: Durkheim , Nationality: France\n",
            "Name: Parsons , Nationality: America\n",
            "Name: Merton , Nationality: America\n",
            "Name: Goffman , Nationality: America\n",
            "Name: Habermas , Nationality: Germany\n"
          ]
        }
      ],
      "source": [
        "for key in nation:\n",
        "    print('Name:', key, ', Nationality:', nation[key])"
      ]
    },
    {
      "cell_type": "markdown",
      "metadata": {
        "id": "FJpKBddLIKx4"
      },
      "source": [
        "- ```values```メソッドを使えば（キーを使わずに）値を1つずつ取り出すこともできます。"
      ]
    },
    {
      "cell_type": "code",
      "execution_count": 25,
      "metadata": {
        "id": "F4KZOTdxIKx4",
        "outputId": "ed1db64b-d828-4242-8336-c97840fdaebd",
        "colab": {
          "base_uri": "https://localhost:8080/"
        }
      },
      "outputs": [
        {
          "output_type": "stream",
          "name": "stdout",
          "text": [
            "Nationality: German\n",
            "Nationality: German\n",
            "Nationality: France\n",
            "Nationality: America\n",
            "Nationality: America\n",
            "Nationality: America\n",
            "Nationality: Germany\n"
          ]
        }
      ],
      "source": [
        "for value in nation.values():\n",
        "    print('Nationality:', value)"
      ]
    },
    {
      "cell_type": "markdown",
      "metadata": {
        "id": "8MQfmNfVIKx4"
      },
      "source": [
        "- ```items```メソッドを使えばキーと値を一度に取り出すこともできます。"
      ]
    },
    {
      "cell_type": "code",
      "execution_count": 26,
      "metadata": {
        "id": "p9gV4haZIKx4",
        "outputId": "05eee390-72e5-464f-eb71-57b66a4c8a43",
        "colab": {
          "base_uri": "https://localhost:8080/"
        }
      },
      "outputs": [
        {
          "output_type": "stream",
          "name": "stdout",
          "text": [
            "Name: Marx Nationality: German\n",
            "Name: Weber Nationality: German\n",
            "Name: Durkheim Nationality: France\n",
            "Name: Parsons Nationality: America\n",
            "Name: Merton Nationality: America\n",
            "Name: Goffman Nationality: America\n",
            "Name: Habermas Nationality: Germany\n"
          ]
        }
      ],
      "source": [
        "for key, value in nation.items():\n",
        "    print('Name:', key, 'Nationality:', value)"
      ]
    },
    {
      "cell_type": "code",
      "source": [
        "for key in nation.keys():\n",
        "    print('Name:', key)"
      ],
      "metadata": {
        "id": "rVakN45QL6fo",
        "outputId": "6be7c3f6-69b1-47c2-c2f2-b7f4c283b07c",
        "colab": {
          "base_uri": "https://localhost:8080/"
        }
      },
      "execution_count": 27,
      "outputs": [
        {
          "output_type": "stream",
          "name": "stdout",
          "text": [
            "Name: Marx\n",
            "Name: Weber\n",
            "Name: Durkheim\n",
            "Name: Parsons\n",
            "Name: Merton\n",
            "Name: Goffman\n",
            "Name: Habermas\n"
          ]
        }
      ]
    },
    {
      "cell_type": "markdown",
      "metadata": {
        "id": "gxniBarnIKx4"
      },
      "source": []
    },
    {
      "cell_type": "markdown",
      "metadata": {
        "id": "vb1mqCUNIKx5"
      },
      "source": []
    }
  ],
  "metadata": {
    "kernelspec": {
      "display_name": "jupyterbook",
      "language": "python",
      "name": "python3"
    },
    "language_info": {
      "codemirror_mode": {
        "name": "ipython",
        "version": 3
      },
      "file_extension": ".py",
      "mimetype": "text/x-python",
      "name": "python",
      "nbconvert_exporter": "python",
      "pygments_lexer": "ipython3",
      "version": "3.9.6"
    },
    "orig_nbformat": 4,
    "colab": {
      "provenance": []
    }
  },
  "nbformat": 4,
  "nbformat_minor": 0
}