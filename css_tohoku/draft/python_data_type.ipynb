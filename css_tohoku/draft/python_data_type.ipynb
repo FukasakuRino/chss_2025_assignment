{
  "cells": [
    {
      "cell_type": "markdown",
      "metadata": {
        "id": "rSXPcp0j8z9I"
      },
      "source": [
        "# データ型\n",
        "\n",
        "Pythonでは、変数を使用してデータを格納します。\n",
        "\n",
        "各変数は特定のデータ型を持ち、これによって整数、文字列などの異なる種類のデータを扱うことができます。\n",
        "\n",
        "## 演算子\n",
        "\n",
        "演算子を使用して変数に格納されたデータを操作します。算術演算子による計算、比較演算子による条件判定、論理演算子による複合的な条件式の作成など、プログラムのほとんどすべての動作に演算子が関わっています。\n",
        "\n",
        "同じ演算子が異なるデータ型に適用されるとき異なる操作になることがあります。"
      ]
    },
    {
      "cell_type": "markdown",
      "metadata": {
        "id": "VYClUPtZ8z9M"
      },
      "source": [
        "### 算術演算子\n",
        "\n",
        "```\n",
        "+a            # 正数\n",
        "-a            # 負数\n",
        "a + b         # 加算\n",
        "a - b         # 減算\n",
        "a * b         # 乗算\n",
        "a / b         # 除算\n",
        "a % b         # a を b で割った余り\n",
        "a ** b        # a の b 乗\n",
        "a // b        # 切り捨て除算\n",
        "```"
      ]
    },
    {
      "cell_type": "markdown",
      "metadata": {
        "id": "SV7lDRSi8z9N"
      },
      "source": [
        "### 代入演算子\n",
        "\n",
        "```\n",
        "a = b         # a に b を代入する\n",
        "a += b        # a = a + b に同じ\n",
        "a -= b        # a = a - b に同じ\n",
        "a *= b        # a = a * b に同じ\n",
        "a /= b        # a = a / b に同じ\n",
        "a %= b        # a = a % b に同じ\n",
        "a **= b       # a = a ** b に同じ\n",
        "a //= b       # a = a // b に同じ\n",
        "a &= b        # a = a & b に同じ\n",
        "a |= b        # a = a | b に同じ\n",
        "a ^= b        # a = a ^ b に同じ\n",
        "a <<= b       # a = a << b に同じ\n",
        "a >>= b       # a = a >> b に同じ\n",
        "```"
      ]
    },
    {
      "cell_type": "markdown",
      "metadata": {
        "id": "4UsGozBX8z9N"
      },
      "source": [
        "### 比較演算子\n",
        "\n",
        "```\n",
        "a == b           # a が b と等しい\n",
        "a != b           # a が b と異なる\n",
        "a < b            # a が b よりも小さい\n",
        "a > b            # a が b よりも大きい\n",
        "a <= b           # a が b 以下である\n",
        "a >= b           # a が b 以上である\n",
        "a is b           # a が b と等しい\n",
        "a is not b       # a が b と異なる\n",
        "a in b           # a が b に含まれる (a, b は共に文字列、または、b はリストやタプル)\n",
        "a not in b       # a が b に含まれない (a, b は共に文字列、または、b はリストやタプル)\n",
        "```"
      ]
    },
    {
      "cell_type": "markdown",
      "metadata": {
        "id": "fOaCrRtv8z9O"
      },
      "source": [
        "### ブール演算子\n",
        "\n",
        "```\n",
        "a and b         # a も b も真であれば真\n",
        "a or b          # a または b が真であれば真\n",
        "not a           # a が偽であれば真\n",
        "```"
      ]
    },
    {
      "cell_type": "markdown",
      "metadata": {
        "id": "cqnhRcJa8z9O"
      },
      "source": [
        "### 条件演算\n",
        "\n",
        "```\n",
        "x if c else y\n",
        "```"
      ]
    },
    {
      "cell_type": "markdown",
      "metadata": {
        "id": "MWkyYbKG8z9O"
      },
      "source": [
        "### 文字列演算\n",
        "\n",
        "```\n",
        "a + b         # 文字列 a と 文字列 b を連結します\n",
        "a * n         # 文字列 a を n 回繰り返します\n",
        "a[n]          # 文字列 a の中の n 番目の文字を取り出します\n",
        "a[n:m]        # 文字列 a の中の n 番目から m 番目までの文字列を取り出します\n",
        "a[n:]         # 文字列 a の中の n 番目から最後までの文字列を取り出します\n",
        "a[:m]         # 文字列 a の中の 0 番目から m 番目までの文字列を取り出します\n",
        "a[n:m:s]      # 文字列 a の中の n 番目から m 番目までの文字列を s個とばしで取り出します\n",
        "```"
      ]
    },
    {
      "cell_type": "markdown",
      "metadata": {
        "id": "AvdLzfQB8z9P"
      },
      "source": [
        "## 基本的なデータ型"
      ]
    },
    {
      "cell_type": "markdown",
      "metadata": {
        "id": "-AZltaLB8z9P"
      },
      "source": [
        "### ブール値\n",
        "\n",
        "ブール値（bool型）は、プログラム内で真```True```または偽```False```のいずれかを表すデータ型です。**条件式**や**論理演算**でよく使われます。"
      ]
    },
    {
      "cell_type": "markdown",
      "metadata": {
        "id": "yOYPwfKY8z9Q"
      },
      "source": [
        "#### 論理演算\n",
        "\n",
        "論理演算子（```and```, ```or```, ```not```）を使って、ブール値を操作します。"
      ]
    },
    {
      "cell_type": "code",
      "execution_count": null,
      "metadata": {
        "id": "tJpVXKwN8z9Q",
        "outputId": "8621e9b2-5e82-483d-b36e-d8ce3b6a6af6"
      },
      "outputs": [
        {
          "data": {
            "text/plain": [
              "False"
            ]
          },
          "execution_count": 12,
          "metadata": {},
          "output_type": "execute_result"
        }
      ],
      "source": [
        "True and False"
      ]
    },
    {
      "cell_type": "code",
      "execution_count": null,
      "metadata": {
        "id": "LfuEQE5f8z9S",
        "outputId": "763187e3-5bc8-4a15-8d1a-a0b37124a88b"
      },
      "outputs": [
        {
          "data": {
            "text/plain": [
              "True"
            ]
          },
          "execution_count": 13,
          "metadata": {},
          "output_type": "execute_result"
        }
      ],
      "source": [
        "True or False"
      ]
    },
    {
      "cell_type": "markdown",
      "metadata": {
        "id": "Lz6daFwT8z9S"
      },
      "source": [
        "#### 比較演算\n"
      ]
    },
    {
      "cell_type": "code",
      "execution_count": null,
      "metadata": {
        "id": "iQkCu8qm8z9S",
        "outputId": "6d5674e8-cfa6-4fdf-a3aa-38d391a22be5"
      },
      "outputs": [
        {
          "data": {
            "text/plain": [
              "True"
            ]
          },
          "execution_count": 14,
          "metadata": {},
          "output_type": "execute_result"
        }
      ],
      "source": [
        "5 > 3"
      ]
    },
    {
      "cell_type": "code",
      "execution_count": null,
      "metadata": {
        "id": "JUp-jJSE8z9T",
        "outputId": "3c9ce47e-57bd-45e2-d239-f86d5173f0e8"
      },
      "outputs": [
        {
          "data": {
            "text/plain": [
              "False"
            ]
          },
          "execution_count": 15,
          "metadata": {},
          "output_type": "execute_result"
        }
      ],
      "source": [
        "7 != 7"
      ]
    },
    {
      "cell_type": "markdown",
      "metadata": {
        "id": "HxMvmB8n8z9T"
      },
      "source": [
        "#### 条件文"
      ]
    },
    {
      "cell_type": "code",
      "execution_count": null,
      "metadata": {
        "id": "sGPQK0OF8z9T",
        "outputId": "6a8b6313-8ee9-49b3-bb68-8f5081c10db2"
      },
      "outputs": [
        {
          "name": "stdout",
          "output_type": "stream",
          "text": [
            "This will always execute\n"
          ]
        }
      ],
      "source": [
        "if True:\n",
        "  print(\"This will always execute\")"
      ]
    },
    {
      "cell_type": "markdown",
      "metadata": {
        "id": "h-jp0i7q8z9T"
      },
      "source": [
        "```{note}\n",
        "**関数**の詳細については今後の授業で学びますので、さしあたり今は、関数に引数を渡すと、その値に応じた何らかの処理結果を返すということを知っておけば良いです。\n",
        "```"
      ]
    },
    {
      "cell_type": "markdown",
      "metadata": {
        "id": "eCTeHCxw8z9T"
      },
      "source": [
        "#### ブール値の変換\n",
        "\n",
        "Pythonでは、ほとんどのデータ型をbool型に変換することが可能です。\n",
        "\n",
        "組込み関数```bool()``` は、オブジェクトや演算式等を真理値判定に基づいて、任意のPythonデータ型を```bool```に変換できます。"
      ]
    },
    {
      "cell_type": "markdown",
      "metadata": {
        "id": "amt67Sqw8z9T"
      },
      "source": [
        "- $0$ではない数値は```True```と見されます。"
      ]
    },
    {
      "cell_type": "code",
      "execution_count": null,
      "metadata": {
        "id": "rYCRm7sT8z9T",
        "outputId": "14e5db6e-8672-4475-c64e-f0caa8a130ef"
      },
      "outputs": [
        {
          "data": {
            "text/plain": [
              "True"
            ]
          },
          "execution_count": 17,
          "metadata": {},
          "output_type": "execute_result"
        }
      ],
      "source": [
        "bool(10)"
      ]
    },
    {
      "cell_type": "markdown",
      "metadata": {
        "id": "cAwL0As58z9U"
      },
      "source": [
        "- $0$は```False```と見されます。"
      ]
    },
    {
      "cell_type": "code",
      "execution_count": null,
      "metadata": {
        "id": "Na92XdLF8z9U",
        "outputId": "7851b62a-483f-46ae-c904-c7941b83b1a0"
      },
      "outputs": [
        {
          "data": {
            "text/plain": [
              "False"
            ]
          },
          "execution_count": 18,
          "metadata": {},
          "output_type": "execute_result"
        }
      ],
      "source": [
        "bool(0)"
      ]
    },
    {
      "cell_type": "markdown",
      "metadata": {
        "id": "Wj9ea4yB8z9U"
      },
      "source": [
        "### 整数(```int```)\n",
        "整数は、小数点以下がなく数値です。"
      ]
    },
    {
      "cell_type": "code",
      "execution_count": null,
      "metadata": {
        "id": "CFJxLSOK8z9U",
        "outputId": "146d93cf-ea20-4a83-c155-88ba209945e4"
      },
      "outputs": [
        {
          "data": {
            "text/plain": [
              "123"
            ]
          },
          "execution_count": 2,
          "metadata": {},
          "output_type": "execute_result"
        }
      ],
      "source": [
        "123"
      ]
    },
    {
      "cell_type": "code",
      "execution_count": null,
      "metadata": {
        "id": "QI__zEMm8z9U",
        "outputId": "4c0137c6-6528-4053-e0c5-8ed8549b4f47"
      },
      "outputs": [
        {
          "data": {
            "text/plain": [
              "-123"
            ]
          },
          "execution_count": 3,
          "metadata": {},
          "output_type": "execute_result"
        }
      ],
      "source": [
        "-123"
      ]
    },
    {
      "cell_type": "markdown",
      "metadata": {
        "id": "TZLH0gLh8z9U"
      },
      "source": [
        "大きな数値のセパレータとしてアンダースコア(```_```)を使えます。"
      ]
    },
    {
      "cell_type": "markdown",
      "metadata": {
        "id": "pjvqVzk08z9U"
      },
      "source": [
        "```{margin}\n",
        "整数の先頭に$0b$,$0o$,$0x$がつくのは、通常の10進数以外の基数であることを指します。\n",
        "```"
      ]
    },
    {
      "cell_type": "code",
      "execution_count": null,
      "metadata": {
        "id": "YR4vK0Ln8z9U",
        "outputId": "c333dd1b-8c6c-4353-bf90-7106e3083ec2"
      },
      "outputs": [
        {
          "data": {
            "text/plain": [
              "1000000"
            ]
          },
          "execution_count": 4,
          "metadata": {},
          "output_type": "execute_result"
        }
      ],
      "source": [
        "1_000_000"
      ]
    },
    {
      "cell_type": "markdown",
      "metadata": {
        "id": "b7ZBlpLb8z9V"
      },
      "source": [
        "Pythonでは数値の計算もできます。数学演算子は表のように定義されています。\n",
        "\n",
        "演算の優先順位は通常の数学と同様に定義されています。通常の数学と同様に、()を使えば、演算の順番を決めることもできます。\n",
        "<table class=\"table2\">\n",
        "    <thead>\n",
        "        <tr><th>演算子</th><th>演算</th><th>例</th></tr>\n",
        "    </thead>\n",
        "    <tbody>  \n",
        "        <tr><td>+</td><td>加算</td><td>a + b</td></tr>\n",
        "        <tr><td>-</td><td>減算</td><td>a - b</td></tr>\n",
        "        <tr><td>*</td><td>乗算</td><td>a * b</td></tr>\n",
        "        <tr><td>/</td><td>除算</td><td>a / b</td></tr>\n",
        "        <tr><td>%</td><td>剰余</td><td>a % b</td></tr>\n",
        "        <tr><td>//</td><td>切り捨て除算</td><td>a // b</td></tr>\n",
        "        <tr><td>**</td><td>べき乗</td><td>a ** b</td></tr>\n",
        "    </tbody>\n",
        "</table>\n",
        "\n",
        "少し馴染みのない演算子のは、\n",
        "- 演算子 ```//``` は小数部を切り捨てた整数値（商）を返します。\n",
        "- 演算子 ```%```は整数除算の余り（剰余）を返します。"
      ]
    },
    {
      "cell_type": "code",
      "execution_count": null,
      "metadata": {
        "id": "BQdoFqv-8z9V",
        "outputId": "896d657e-d1a7-4556-8979-b90be07179c4"
      },
      "outputs": [
        {
          "data": {
            "text/plain": [
              "2"
            ]
          },
          "execution_count": 9,
          "metadata": {},
          "output_type": "execute_result"
        }
      ],
      "source": [
        "13//5"
      ]
    },
    {
      "cell_type": "code",
      "execution_count": null,
      "metadata": {
        "id": "8Ta7gAZp8z9V",
        "outputId": "b53bb8ad-74bb-44af-cf50-bbf7b6f6b5fc"
      },
      "outputs": [
        {
          "data": {
            "text/plain": [
              "3"
            ]
          },
          "execution_count": 10,
          "metadata": {},
          "output_type": "execute_result"
        }
      ],
      "source": [
        "13%5"
      ]
    },
    {
      "cell_type": "markdown",
      "metadata": {
        "id": "Ie2wIxzv8z9V"
      },
      "source": [
        "### 浮動小数点数 (```float```)\n",
        "\n",
        "Pythonでは、整数と小数点のある数（実数）は浮動小数点数といいます。\n"
      ]
    },
    {
      "cell_type": "code",
      "execution_count": null,
      "metadata": {
        "id": "H2Y180zL8z9V",
        "outputId": "fc99fb82-2cf2-4d95-cc1f-e8487a568911"
      },
      "outputs": [
        {
          "data": {
            "text/plain": [
              "5.0"
            ]
          },
          "execution_count": 18,
          "metadata": {},
          "output_type": "execute_result"
        }
      ],
      "source": [
        "5."
      ]
    },
    {
      "cell_type": "code",
      "execution_count": null,
      "metadata": {
        "id": "kG6tJ6gb8z9V",
        "outputId": "3669fc00-e9b0-4492-b85b-ac7f357897be"
      },
      "outputs": [
        {
          "data": {
            "text/plain": [
              "5.0"
            ]
          },
          "execution_count": 19,
          "metadata": {},
          "output_type": "execute_result"
        }
      ],
      "source": [
        "5.0"
      ]
    },
    {
      "cell_type": "markdown",
      "metadata": {
        "id": "tniRbDj98z9W"
      },
      "source": [
        "浮動小数点数は文字```e```の後ろに$10$進の桁数を入れて指定することもできます。"
      ]
    },
    {
      "cell_type": "code",
      "execution_count": null,
      "metadata": {
        "id": "LE7TXrs58z9W",
        "outputId": "36900990-7e4d-47b7-80dd-1936ebc75cf9"
      },
      "outputs": [
        {
          "data": {
            "text/plain": [
              "500.0"
            ]
          },
          "execution_count": 20,
          "metadata": {},
          "output_type": "execute_result"
        }
      ],
      "source": [
        "5e2"
      ]
    },
    {
      "cell_type": "markdown",
      "metadata": {
        "id": "IfhOlfyv8z9W"
      },
      "source": [
        "ここで注意する必要があるのは、整数と実数が数学的に同じ数を表す場合でも、コンピュータの中で異なる形式で記憶されますので、表示は異なります。\n",
        "```{margin}\n",
        "プログラムの中で扱う変数には様々な\"型\"(```type```)があります。変数の型は```type()```という関数を使うことで調べることができる。\n",
        "```"
      ]
    },
    {
      "cell_type": "code",
      "execution_count": null,
      "metadata": {
        "id": "wbn_pkSL8z9W",
        "outputId": "3321b921-85ff-43cb-f399-5c06ab0f2e54"
      },
      "outputs": [
        {
          "name": "stdout",
          "output_type": "stream",
          "text": [
            "<class 'float'>\n",
            "<class 'int'>\n"
          ]
        }
      ],
      "source": [
        "print(type(5.0))\n",
        "print(type(5))"
      ]
    },
    {
      "cell_type": "markdown",
      "metadata": {
        "id": "Ow9O43VI8z9c"
      },
      "source": [
        "浮動小数点数も算術演算子を使えます。\n",
        "\n",
        "また、整数と実数が混ざって計算も可能です。ただ、その場合、結果は実数になります。"
      ]
    },
    {
      "cell_type": "code",
      "execution_count": null,
      "metadata": {
        "id": "aZ98u2xG8z9c",
        "outputId": "3c993b4d-5562-49aa-f691-d7c50fb197a6"
      },
      "outputs": [
        {
          "data": {
            "text/plain": [
              "7.0"
            ]
          },
          "execution_count": 22,
          "metadata": {},
          "output_type": "execute_result"
        }
      ],
      "source": [
        "2+5.0"
      ]
    },
    {
      "cell_type": "markdown",
      "metadata": {
        "id": "4CBN4tz-8z9c"
      },
      "source": [
        "```int()```関数で、浮動小数点数を整数に変換できます。"
      ]
    },
    {
      "cell_type": "code",
      "execution_count": null,
      "metadata": {
        "id": "DfK9eg5F8z9c",
        "outputId": "0877416b-2321-43bb-9360-3376ba8e5bce"
      },
      "outputs": [
        {
          "data": {
            "text/plain": [
              "98"
            ]
          },
          "execution_count": 24,
          "metadata": {},
          "output_type": "execute_result"
        }
      ],
      "source": [
        "int(98.5)"
      ]
    },
    {
      "cell_type": "markdown",
      "metadata": {
        "id": "fWQW278I8z9d"
      },
      "source": [
        "```float()```関数で、整数を浮動小数点数に変換できます。"
      ]
    },
    {
      "cell_type": "code",
      "execution_count": null,
      "metadata": {
        "id": "7lyG51EP8z9d",
        "outputId": "0c421608-b037-48e3-fe79-5d23f07e23af"
      },
      "outputs": [
        {
          "data": {
            "text/plain": [
              "98.0"
            ]
          },
          "execution_count": 33,
          "metadata": {},
          "output_type": "execute_result"
        }
      ],
      "source": [
        "float(98)"
      ]
    },
    {
      "cell_type": "markdown",
      "metadata": {
        "id": "sQM7SYXm8z9d"
      },
      "source": [
        "````{tab-set}\n",
        "```{tab-item} 練習問題1\n",
        "一日は何秒だを計算してみよう。\n",
        "```\n",
        "\n",
        "```{tab-item} 練習問題2\n",
        "$1$年$365$日といいますが、厳密的に言えば、$1$年を$366$日とする閏年を$400$年間に$97$回設けることによって、$1$年の平均日数を$365.2425$日とする。\n",
        "\n",
        "今度は一年は何分何秒かを計算しよう。一年$=()$分$()$秒で回答してください。\n",
        "```\n",
        "````"
      ]
    },
    {
      "cell_type": "markdown",
      "metadata": {
        "id": "1sjZ88y38z9d"
      },
      "source": [
        "### 文字列\n",
        "\n",
        "文字列は数値とは異なるデータ型の一つで、文字通り文字を扱います。\n",
        "\n",
        "#### 文字列作成\n",
        "\n",
        "文字列は、**シーケンス**型という広義の型に属しています。シーケンス型とは順番のある要素の集まりを指します。インデックスで要素を指定して取り出すことができます。インデックスは$R$などとは違い、$1$ではなく、$0$から始まります。例えば、\n",
        "- ```0:3```とすると、$0$から$2$までの要素を取り出します。\n",
        "- ```1:```とすると$1$以降のすべての要素を取り出します。"
      ]
    },
    {
      "cell_type": "markdown",
      "metadata": {
        "id": "y1SeSggj8z9d"
      },
      "source": [
        "文字列は、 クォートで文字を囲んで作ります。"
      ]
    },
    {
      "cell_type": "code",
      "execution_count": null,
      "metadata": {
        "id": "TFZf7otF8z9d",
        "outputId": "d37aecb9-2930-4e1b-ceb3-d3eb172a860a"
      },
      "outputs": [
        {
          "name": "stdout",
          "output_type": "stream",
          "text": [
            "Hello!\n"
          ]
        }
      ],
      "source": [
        "text=\"Hello!\"\n",
        "print(text)"
      ]
    },
    {
      "cell_type": "code",
      "execution_count": null,
      "metadata": {
        "id": "i16rqwWY8z9e",
        "outputId": "447e5c85-7bc7-44d2-c5d0-3b410947c27e"
      },
      "outputs": [
        {
          "name": "stdout",
          "output_type": "stream",
          "text": [
            "Hello!\n"
          ]
        }
      ],
      "source": [
        "text='Hello!'\n",
        "print(text)"
      ]
    },
    {
      "cell_type": "code",
      "execution_count": 16,
      "metadata": {
        "id": "5hr5c26U8z9e",
        "outputId": "84aedb0c-dddc-4ab8-ced8-ec0196e1b84d",
        "colab": {
          "base_uri": "https://localhost:8080/"
        }
      },
      "outputs": [
        {
          "output_type": "stream",
          "name": "stdout",
          "text": [
            "\"ダブル\" クォートを埋め込むことができます\n"
          ]
        }
      ],
      "source": [
        "text1='\"ダブル\" クォートを埋め込むことができます'\n",
        "print(text1)"
      ]
    },
    {
      "cell_type": "code",
      "execution_count": 17,
      "metadata": {
        "id": "0EQYotf38z9e",
        "outputId": "c0a2effe-5a14-4e59-e902-3c90bcb731c4",
        "colab": {
          "base_uri": "https://localhost:8080/"
        }
      },
      "outputs": [
        {
          "output_type": "stream",
          "name": "stdout",
          "text": [
            "'シングル' クォートを埋め込むことができます\n"
          ]
        }
      ],
      "source": [
        "text2=\"'シングル' クォートを埋め込むことができます\"\n",
        "print(text2)"
      ]
    },
    {
      "cell_type": "code",
      "execution_count": null,
      "metadata": {
        "id": "MXBryLJY8z9e",
        "outputId": "75a1e777-672e-4941-aef9-eaa03b874fa5"
      },
      "outputs": [
        {
          "data": {
            "text/plain": [
              "'三つのシングルクォート'"
            ]
          },
          "execution_count": 23,
          "metadata": {},
          "output_type": "execute_result"
        }
      ],
      "source": [
        "'''三つのシングルクォート'''"
      ]
    },
    {
      "cell_type": "code",
      "execution_count": 9,
      "metadata": {
        "id": "qvjtfJXF8z9e"
      },
      "outputs": [],
      "source": [
        "text='Hello!'"
      ]
    },
    {
      "cell_type": "code",
      "source": [
        "text[1:]"
      ],
      "metadata": {
        "id": "neJ-cJQU_cq6",
        "outputId": "fc2a34b1-80ac-4dfc-cc09-23799dbb3626",
        "colab": {
          "base_uri": "https://localhost:8080/",
          "height": 35
        }
      },
      "execution_count": 14,
      "outputs": [
        {
          "output_type": "execute_result",
          "data": {
            "text/plain": [
              "'ello!'"
            ],
            "application/vnd.google.colaboratory.intrinsic+json": {
              "type": "string"
            }
          },
          "metadata": {},
          "execution_count": 14
        }
      ]
    },
    {
      "cell_type": "markdown",
      "metadata": {
        "id": "XV4P1a0l8z9e"
      },
      "source": [
        "特定の文字の前にバックスラッシュをつけると、その文字を特殊な意味として扱うことができます。もっともよく使われるのは改行を意味する```\\n```です。\n",
        "\n",
        "```{margin}\n",
        "Pythonには、小数の特殊なタイプの文字列があり、それらは最初クォートの前に文字を付けて示す。例えば、先頭が```r```の*raw文字列*では、 文字内の```\\n``` は改行を表すエスケープシーケンスをエスケープシーケンスとして解釈されないようにする。特に説明しない限り、ここで取り上げるのは普通のUnicode文字列です。\n",
        "```"
      ]
    },
    {
      "cell_type": "code",
      "execution_count": null,
      "metadata": {
        "id": "CQXCh-Y68z9f",
        "outputId": "77889d45-2e17-4628-8334-c44ee1ac2d70"
      },
      "outputs": [
        {
          "name": "stdout",
          "output_type": "stream",
          "text": [
            "Hello\n",
            "World\n"
          ]
        }
      ],
      "source": [
        "print(\"Hello\\nWorld\")"
      ]
    },
    {
      "cell_type": "code",
      "source": [
        "print(\"こんにちは\\nこんばんは\\n良い天気ですね\")"
      ],
      "metadata": {
        "id": "HXeHLDc_-jDQ",
        "outputId": "5535f566-e737-48ea-b9bc-12a465268ea1",
        "colab": {
          "base_uri": "https://localhost:8080/"
        }
      },
      "execution_count": 7,
      "outputs": [
        {
          "output_type": "stream",
          "name": "stdout",
          "text": [
            "こんにちは\n",
            "こんばんは\n",
            "良い天気ですね\n"
          ]
        }
      ]
    },
    {
      "cell_type": "markdown",
      "metadata": {
        "id": "GHcUgrui8z9f"
      },
      "source": [
        "#### $+$による連結"
      ]
    },
    {
      "cell_type": "code",
      "execution_count": null,
      "metadata": {
        "id": "Hul8TVPB8z9f",
        "outputId": "b3d9428d-2ef2-45a5-edc7-4728822af265"
      },
      "outputs": [
        {
          "data": {
            "text/plain": [
              "'HelloWorld'"
            ]
          },
          "execution_count": 26,
          "metadata": {},
          "output_type": "execute_result"
        }
      ],
      "source": [
        "\"Hello\"+\"World\""
      ]
    },
    {
      "cell_type": "code",
      "source": [
        "print(text1+\"。また、\"+text2)"
      ],
      "metadata": {
        "id": "mgw3gCDs_raj",
        "outputId": "78772b4a-1f1b-4f19-fad9-da7cc9fe2326",
        "colab": {
          "base_uri": "https://localhost:8080/"
        }
      },
      "execution_count": 23,
      "outputs": [
        {
          "output_type": "stream",
          "name": "stdout",
          "text": [
            "\"ダブル\" クォートを埋め込むことができます。また、'シングル' クォートを埋め込むことができます\n"
          ]
        }
      ]
    },
    {
      "cell_type": "markdown",
      "metadata": {
        "id": "bXo2d7Qy8z9f"
      },
      "source": [
        "#### $*$による繰り返し"
      ]
    },
    {
      "cell_type": "code",
      "execution_count": null,
      "metadata": {
        "id": "-GUyr7KO8z9f",
        "outputId": "59c5285f-f127-4b39-f776-d584e22082ff"
      },
      "outputs": [
        {
          "data": {
            "text/plain": [
              "'HelloHelloHello'"
            ]
          },
          "execution_count": 27,
          "metadata": {},
          "output_type": "execute_result"
        }
      ],
      "source": [
        "\"Hello\"*3"
      ]
    },
    {
      "cell_type": "markdown",
      "metadata": {
        "id": "JTVGX1Pa8z9f"
      },
      "source": [
        "#### ```[]```による文字の抽出"
      ]
    },
    {
      "cell_type": "markdown",
      "metadata": {
        "id": "9CNo_4k98z9f"
      },
      "source": [
        "文字列から文字を取り出したい時には、$[]$にインデックスを指定するとその位置の文字を取得できます。\n",
        "- 先頭の文字は$0$から数えます。\n",
        "- 一番最後の文字が$-1$でも指定できます。後ろから二番目は$-2$,後ろから三番目は$-3$のように表すことができます。"
      ]
    },
    {
      "cell_type": "code",
      "execution_count": 24,
      "metadata": {
        "id": "I7WmNzm68z9f"
      },
      "outputs": [],
      "source": [
        "name=\"Max Weber\""
      ]
    },
    {
      "cell_type": "code",
      "execution_count": 25,
      "metadata": {
        "id": "h1VXollN8z9f",
        "outputId": "4087143d-1548-40a3-f3a4-17e46174311d",
        "colab": {
          "base_uri": "https://localhost:8080/",
          "height": 35
        }
      },
      "outputs": [
        {
          "output_type": "execute_result",
          "data": {
            "text/plain": [
              "'M'"
            ],
            "application/vnd.google.colaboratory.intrinsic+json": {
              "type": "string"
            }
          },
          "metadata": {},
          "execution_count": 25
        }
      ],
      "source": [
        "name[0]"
      ]
    },
    {
      "cell_type": "code",
      "execution_count": 26,
      "metadata": {
        "id": "1sO2K5UF8z9g",
        "outputId": "fce0b732-1f89-46ee-d50e-9f780c181a5a",
        "colab": {
          "base_uri": "https://localhost:8080/",
          "height": 35
        }
      },
      "outputs": [
        {
          "output_type": "execute_result",
          "data": {
            "text/plain": [
              "'r'"
            ],
            "application/vnd.google.colaboratory.intrinsic+json": {
              "type": "string"
            }
          },
          "metadata": {},
          "execution_count": 26
        }
      ],
      "source": [
        "name[-1]"
      ]
    },
    {
      "cell_type": "code",
      "execution_count": 27,
      "metadata": {
        "id": "A1SsGlQL8z9g",
        "outputId": "54d10152-13ee-4e90-cdae-b22be1fcd61b",
        "colab": {
          "base_uri": "https://localhost:8080/",
          "height": 35
        }
      },
      "outputs": [
        {
          "output_type": "execute_result",
          "data": {
            "text/plain": [
              "'Max'"
            ],
            "application/vnd.google.colaboratory.intrinsic+json": {
              "type": "string"
            }
          },
          "metadata": {},
          "execution_count": 27
        }
      ],
      "source": [
        "name[:3]"
      ]
    },
    {
      "cell_type": "code",
      "execution_count": 28,
      "metadata": {
        "id": "AVZH0TQ48z9g",
        "outputId": "7df1cf95-5f0b-4476-b35e-d5cda9e6e939",
        "colab": {
          "base_uri": "https://localhost:8080/",
          "height": 35
        }
      },
      "outputs": [
        {
          "output_type": "execute_result",
          "data": {
            "text/plain": [
              "'Weber'"
            ],
            "application/vnd.google.colaboratory.intrinsic+json": {
              "type": "string"
            }
          },
          "metadata": {},
          "execution_count": 28
        }
      ],
      "source": [
        "name[-5:]"
      ]
    },
    {
      "cell_type": "markdown",
      "metadata": {
        "id": "xryUDCTj8z9h"
      },
      "source": [
        "#### ```len```による文字の抽出"
      ]
    },
    {
      "cell_type": "markdown",
      "metadata": {
        "id": "YRl9ECrE8z9h"
      },
      "source": [
        "Pythonの取り組み関数で文字列に対する操作を行うことができます。\n",
        "```{margin}\n",
        "先取りの定義ですが、関数とは、決められた操作を実行する名前付きのコードです。それらの中で、インポートなしですぐに使える関数を「**組み込み関数**」と呼びます。\n",
        "```\n"
      ]
    },
    {
      "cell_type": "code",
      "execution_count": 29,
      "metadata": {
        "id": "afnZMRpl8z9h",
        "outputId": "a93c00c8-da91-4883-fb21-2bfd66aabcbd",
        "colab": {
          "base_uri": "https://localhost:8080/"
        }
      },
      "outputs": [
        {
          "output_type": "execute_result",
          "data": {
            "text/plain": [
              "9"
            ]
          },
          "metadata": {},
          "execution_count": 29
        }
      ],
      "source": [
        "len(name)"
      ]
    },
    {
      "cell_type": "markdown",
      "metadata": {
        "id": "tPmCJg-f8z9h"
      },
      "source": [
        "#### ```split```による文字の分割\n",
        "```split```関数は、区切り文字に基づいて文字列を分割し、部分文字列のリストを作ることができます。\n",
        "```{margin}\n",
        "引数とは、関数やを呼び出す際に渡す値のことです。基本的には、関数はこの「渡された値に対して処理を行い、結果を返す」ということを行っています。\n",
        "```"
      ]
    },
    {
      "cell_type": "code",
      "execution_count": 30,
      "metadata": {
        "id": "s3MfXF8h8z9h",
        "outputId": "f3444f28-f919-4853-ea60-59e3550420fd",
        "colab": {
          "base_uri": "https://localhost:8080/"
        }
      },
      "outputs": [
        {
          "output_type": "execute_result",
          "data": {
            "text/plain": [
              "['Max', 'Weber']"
            ]
          },
          "metadata": {},
          "execution_count": 30
        }
      ],
      "source": [
        "name.split(\" \")"
      ]
    },
    {
      "cell_type": "code",
      "source": [
        "text1.split(\"を\")"
      ],
      "metadata": {
        "id": "cw6mk9bwAhey",
        "outputId": "a41ee8d7-af4a-4af4-f6bb-5d0c25f06888",
        "colab": {
          "base_uri": "https://localhost:8080/"
        }
      },
      "execution_count": 35,
      "outputs": [
        {
          "output_type": "execute_result",
          "data": {
            "text/plain": [
              "['\"ダブル\" クォート', '埋め込むことができます']"
            ]
          },
          "metadata": {},
          "execution_count": 35
        }
      ]
    },
    {
      "cell_type": "markdown",
      "metadata": {
        "id": "BH7UDLX78z9i"
      },
      "source": [
        "#### ```replace```による文字の置換\n",
        "\n",
        "```replace```関数は、文字列の一部を置換することができます。"
      ]
    },
    {
      "cell_type": "code",
      "source": [
        "name.replace(\"Max\",\"Karl\")"
      ],
      "metadata": {
        "id": "aW7eRyoABR8t",
        "outputId": "bf62d4cd-b507-434c-8cd5-bcf7913b328b",
        "colab": {
          "base_uri": "https://localhost:8080/",
          "height": 35
        }
      },
      "execution_count": 42,
      "outputs": [
        {
          "output_type": "execute_result",
          "data": {
            "text/plain": [
              "'Karl Weber'"
            ],
            "application/vnd.google.colaboratory.intrinsic+json": {
              "type": "string"
            }
          },
          "metadata": {},
          "execution_count": 42
        }
      ]
    },
    {
      "cell_type": "code",
      "source": [
        "name.replace(\" \",\"・\")"
      ],
      "metadata": {
        "id": "Ty0x2PIGBbtd",
        "outputId": "4533132b-4888-470b-9902-b578859b604e",
        "colab": {
          "base_uri": "https://localhost:8080/",
          "height": 35
        }
      },
      "execution_count": 44,
      "outputs": [
        {
          "output_type": "execute_result",
          "data": {
            "text/plain": [
              "'Max・Weber'"
            ],
            "application/vnd.google.colaboratory.intrinsic+json": {
              "type": "string"
            }
          },
          "metadata": {},
          "execution_count": 44
        }
      ]
    },
    {
      "cell_type": "code",
      "source": [
        "name.replace(\"\")"
      ],
      "metadata": {
        "id": "JmrKh1pwBko-"
      },
      "execution_count": null,
      "outputs": []
    },
    {
      "cell_type": "code",
      "execution_count": 39,
      "metadata": {
        "id": "rlnnw4qH8z9i",
        "outputId": "5d743520-b930-4b3b-e368-caaa5c031f1f",
        "colab": {
          "base_uri": "https://localhost:8080/",
          "height": 35
        }
      },
      "outputs": [
        {
          "output_type": "execute_result",
          "data": {
            "text/plain": [
              "'Karl Marx'"
            ],
            "application/vnd.google.colaboratory.intrinsic+json": {
              "type": "string"
            }
          },
          "metadata": {},
          "execution_count": 39
        }
      ],
      "source": [
        "name.replace(\"Max\",\"Karl\").replace(\"Weber\",\"Marx\")"
      ]
    },
    {
      "cell_type": "code",
      "source": [
        "print(name)"
      ],
      "metadata": {
        "id": "fJlFSpT7BCnh",
        "outputId": "297b307a-02af-443b-dc97-048043988e73",
        "colab": {
          "base_uri": "https://localhost:8080/"
        }
      },
      "execution_count": 43,
      "outputs": [
        {
          "output_type": "stream",
          "name": "stdout",
          "text": [
            "Max Weber\n"
          ]
        }
      ]
    }
  ],
  "metadata": {
    "kernelspec": {
      "display_name": "Python 3",
      "language": "python",
      "name": "python3"
    },
    "language_info": {
      "codemirror_mode": {
        "name": "ipython",
        "version": 3
      },
      "file_extension": ".py",
      "mimetype": "text/x-python",
      "name": "python",
      "nbconvert_exporter": "python",
      "pygments_lexer": "ipython3",
      "version": "3.12.1"
    },
    "orig_nbformat": 4,
    "vscode": {
      "interpreter": {
        "hash": "31f2aee4e71d21fbe5cf8b01ff0e069b9275f58929596ceb00d14d90e3e16cd6"
      }
    },
    "colab": {
      "provenance": []
    }
  },
  "nbformat": 4,
  "nbformat_minor": 0
}