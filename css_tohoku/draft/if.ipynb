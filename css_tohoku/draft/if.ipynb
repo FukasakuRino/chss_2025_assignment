{
  "cells": [
    {
      "cell_type": "markdown",
      "metadata": {
        "id": "x-MkMRm7_bCC"
      },
      "source": [
        "# 分岐\n",
        "\n",
        "ここまでは一文だけの命令を作ってきました。でも、本格的なプログラミングのためには、複数の文を繰返し実行したり、条件分岐させたりということが必要になります。これを制御文と言います。比較演算子や論理演算子について学んだので、いろいろな条件を使ってプログラムを実行させることができるようになりました。"
      ]
    },
    {
      "cell_type": "markdown",
      "metadata": {
        "id": "dF4oUpdw_bCE"
      },
      "source": [
        "## if文とブロックの書き方\n",
        "\n",
        "- ```if``` の後に条件を書きます。そして条件が満たされているときは**ブロック**の中身を実行します。\n",
        "- ここで**ブロック**という概念が初めて出てきました。```if```の条件の後の:がブロックを示します。Pythonの特徴として、ブロックの領域はインデントを利用して示します。インデントがないとエラーになります。通常は、スペース4つでインデントします。\n",
        "- ```else```ブロックはif以下の条件を満たさないときに実行されます。"
      ]
    },
    {
      "cell_type": "markdown",
      "metadata": {
        "id": "4XS2EzDH_bCF"
      },
      "source": [
        "```{margin}\n",
        "ここでついでにpythonでのコメントの書き方も学んでおきます。コードの中に、```#```で始まる文を書くと、以後の文は実行時に無視されます。プログラムを書くときは、それぞれのコードで何をしようとしているか、細かくコメントを書いておくことが重要です。\n",
        "```"
      ]
    },
    {
      "cell_type": "code",
      "execution_count": 5,
      "metadata": {
        "id": "UKPTJAwO_bCF",
        "outputId": "6e35242d-88f0-48c6-b376-8a8ed27c537e",
        "colab": {
          "base_uri": "https://localhost:8080/"
        }
      },
      "outputs": [
        {
          "output_type": "stream",
          "name": "stdout",
          "text": [
            "不正解です。\n"
          ]
        }
      ],
      "source": [
        "# 正解／不正解を返すプログラムを作る\n",
        "var = 1863\n",
        "if var == 1864:               #if文が満たされている場合\n",
        "    print('正解です！')\n",
        "else:                         #if文が満たされない場合\n",
        "    print('不正解です。')"
      ]
    },
    {
      "cell_type": "code",
      "source": [
        "var = 1864\n",
        "if var == 1864:\n",
        "    print('正解です！')\n",
        "else:\n",
        "    print('不正解です。')"
      ],
      "metadata": {
        "id": "pnj5NpXsBUzy",
        "outputId": "2dd732b1-4ee5-481a-d569-2f021c6684a0",
        "colab": {
          "base_uri": "https://localhost:8080/"
        }
      },
      "execution_count": 4,
      "outputs": [
        {
          "output_type": "stream",
          "name": "stdout",
          "text": [
            "正解です！\n"
          ]
        }
      ]
    },
    {
      "cell_type": "markdown",
      "metadata": {
        "id": "tGN15FGc_bCI"
      },
      "source": [
        "```{margin}\n",
        "初心者がよく間違いましたが、pythonにおける```=```は変数の代入に使われます。一方、```==```は等しいかどうかをテストするための演算子です。\n",
        "```"
      ]
    },
    {
      "cell_type": "markdown",
      "metadata": {
        "id": "IrAOdS77_bCI"
      },
      "source": [
        "- 条件分岐が3種類以上に分かれる場合には、\n",
        "    - 最初の条件で```if```\n",
        "    - 間の条件で```elif```\n",
        "    - 最後で```else```"
      ]
    },
    {
      "cell_type": "code",
      "execution_count": 9,
      "metadata": {
        "id": "AXMI7ndl_bCJ",
        "outputId": "aa6e3307-7f94-41cf-abf5-0733c7b2d838",
        "colab": {
          "base_uri": "https://localhost:8080/"
        }
      },
      "outputs": [
        {
          "output_type": "stream",
          "name": "stdout",
          "text": [
            "おやすみ\n"
          ]
        }
      ],
      "source": [
        "hour = 23\n",
        "if hour <= 10:\n",
        "    print(\"おはよう\")\n",
        "elif hour>22:\n",
        "    print(\"おやすみ\")\n",
        "else:\n",
        "    print(\"こんにちは\")"
      ]
    },
    {
      "cell_type": "markdown",
      "metadata": {
        "id": "Qh3E6X5y_bCJ"
      },
      "source": [
        "````{tab-set}\n",
        "```{tab-item} 実習問題\n",
        "$x$を入力し、以下の数式で$f(x)$を計算するプログラミングを書いてください。\n",
        "```\n",
        "````"
      ]
    },
    {
      "cell_type": "markdown",
      "metadata": {
        "id": "CTurx-WX_bCJ"
      },
      "source": [
        "\\begin{equation}\n",
        "\n",
        "f(x) = \\left\\{\n",
        "\\begin{array}{ll}\n",
        "x+5 & (x \\lt 0) \\\\\n",
        "0 & (x = 0) \\\\\n",
        "x^2 & (x > 0)\n",
        "\\end{array}\n",
        "\\right.\n",
        " \\end{equation}\n"
      ]
    },
    {
      "cell_type": "code",
      "execution_count": 39,
      "metadata": {
        "id": "ZIqb8Xud_bCK",
        "outputId": "d0b84363-a173-48b2-efc2-c3e18ebf0445",
        "colab": {
          "base_uri": "https://localhost:8080/"
        }
      },
      "outputs": [
        {
          "output_type": "stream",
          "name": "stdout",
          "text": [
            "144\n"
          ]
        }
      ],
      "source": [
        "x=12 #xの値を変えてみよう\n",
        "if x<0:\n",
        "    print(x+5)\n",
        "elif x==0:\n",
        "    print(0)\n",
        "else:\n",
        "    print(x**2)"
      ]
    },
    {
      "cell_type": "code",
      "source": [
        "x=12 #xの値を変えてみよう\n",
        "if x<0:\n",
        "    print(x+5)\n",
        "elif x==0:\n",
        "    print(0)\n",
        "elif x>0:\n",
        "    print(x**2)"
      ],
      "metadata": {
        "id": "xvvaOKzFEPyo",
        "outputId": "2dcd5609-f57e-4795-f88f-b22a46dec6bd",
        "colab": {
          "base_uri": "https://localhost:8080/"
        }
      },
      "execution_count": 40,
      "outputs": [
        {
          "output_type": "stream",
          "name": "stdout",
          "text": [
            "144\n"
          ]
        }
      ]
    },
    {
      "cell_type": "code",
      "source": [
        "x=0\n",
        "if x<0:\n",
        "  print(x+5)\n",
        "elif x>0:\n",
        "  print(x**2) #表示されない！"
      ],
      "metadata": {
        "id": "pp4BF89VFHX4"
      },
      "execution_count": 41,
      "outputs": []
    },
    {
      "cell_type": "markdown",
      "metadata": {
        "id": "m7odePBO_bCK"
      },
      "source": [
        "## 様々な条件\n",
        "\n",
        "if の右などに来る条件として様々なものを書くことができます。\n",
        "\n",
        "### 演算子"
      ]
    },
    {
      "cell_type": "markdown",
      "metadata": {
        "id": "c45HIn_S_bCL"
      },
      "source": [
        "| 演算子   | 意味 |\n",
        "|----------|------|\n",
        "| x < y     | x は y より小さい |\n",
        "| x <= y    | x は y 以下 |\n",
        "| x > y | x は y より大きい |\n",
        "| x >= y | x は y 以上 |\n",
        "| **x == y**  | **x と y は等しい** |\n",
        "| **x != y**    | **x と y は等しくない** |"
      ]
    },
    {
      "cell_type": "markdown",
      "metadata": {
        "id": "QPVRFEG8_bCL"
      },
      "source": [
        "### 複数の条件\n",
        "\n",
        "な基本的な条件を、 ```and``` と````or````などの倫理演算子を用いて組み合わせることができます。"
      ]
    },
    {
      "cell_type": "code",
      "execution_count": 42,
      "metadata": {
        "id": "6K_7U90h_bCL",
        "outputId": "ff9c9745-adec-4cf2-c68b-1e0e49c92e06",
        "colab": {
          "base_uri": "https://localhost:8080/"
        }
      },
      "outputs": [
        {
          "output_type": "execute_result",
          "data": {
            "text/plain": [
              "False"
            ]
          },
          "metadata": {},
          "execution_count": 42
        }
      ],
      "source": [
        "x=20\n",
        "x>5 and x<15"
      ]
    },
    {
      "cell_type": "code",
      "execution_count": 43,
      "metadata": {
        "id": "IwWh4x5o_bCL",
        "outputId": "766ae4c2-eae6-4262-edd8-d8ca9699e829",
        "colab": {
          "base_uri": "https://localhost:8080/"
        }
      },
      "outputs": [
        {
          "output_type": "execute_result",
          "data": {
            "text/plain": [
              "True"
            ]
          },
          "metadata": {},
          "execution_count": 43
        }
      ],
      "source": [
        "x=20\n",
        "x>5 or x<15"
      ]
    },
    {
      "cell_type": "markdown",
      "metadata": {
        "id": "EZ5ZhCvt_bCL"
      },
      "source": [
        "### ```in/not in```による多重比較\n",
        "\n",
        "所属関係を調べる際は```in```演算子を使います。"
      ]
    },
    {
      "cell_type": "code",
      "execution_count": 33,
      "metadata": {
        "id": "VeHZKCUE_bCL",
        "outputId": "fc624e60-650e-4d5a-855f-74d20a186800",
        "colab": {
          "base_uri": "https://localhost:8080/"
        }
      },
      "outputs": [
        {
          "output_type": "execute_result",
          "data": {
            "text/plain": [
              "False"
            ]
          },
          "metadata": {},
          "execution_count": 33
        }
      ],
      "source": [
        "x=12\n",
        "x in [1,2,3,4,5,6,7,8,9,10]"
      ]
    },
    {
      "cell_type": "code",
      "execution_count": 34,
      "metadata": {
        "id": "RO-PXj5Z_bCM",
        "outputId": "f70ae4c9-cec4-4020-e3f2-8a8002d8c0e0",
        "colab": {
          "base_uri": "https://localhost:8080/"
        }
      },
      "outputs": [
        {
          "output_type": "execute_result",
          "data": {
            "text/plain": [
              "True"
            ]
          },
          "metadata": {},
          "execution_count": 34
        }
      ],
      "source": [
        "x=12\n",
        "x not in [1,2,3,4,5,6,7,8,9,10]"
      ]
    },
    {
      "cell_type": "code",
      "execution_count": 38,
      "metadata": {
        "id": "54zykrlR_bCM",
        "outputId": "b3effcae-17ba-4d9a-be01-4466a3fa8808",
        "colab": {
          "base_uri": "https://localhost:8080/"
        }
      },
      "outputs": [
        {
          "output_type": "execute_result",
          "data": {
            "text/plain": [
              "True"
            ]
          },
          "metadata": {},
          "execution_count": 38
        }
      ],
      "source": [
        "\"so\" in \"sociology\""
      ]
    },
    {
      "cell_type": "markdown",
      "metadata": {
        "id": "p1RppotW_bCM"
      },
      "source": [
        "```{note} 真理値を返す関数\n",
        "真理値とは、 ```True``` または ```False``` のどちらかの値のことです。 これらは変数ではなく、組み込み定数であることに注意してください。\n",
        "- ```True``` は、正しいこと（真）を表します。\n",
        "- ```False``` は、間違ったこと（偽）を表します。\n",
        "```if``` の後の条件の式は、```True``` か ```False``` を値として持ちます。\n",
        "```"
      ]
    },
    {
      "cell_type": "markdown",
      "metadata": {
        "id": "lutp4xaT_bCM"
      },
      "source": [
        "````{tab-set}\n",
        "```{tab-item} 実習問題1\n",
        "ユーザーの年齢に応じて、入場料金を計算するプログラムを作成してください。条件は以下の通りです。\n",
        "\n",
        "3歳以下: 無料\n",
        "4歳から12歳まで: 500円\n",
        "13歳以上: 1000円\n",
        "```\n",
        "```{tab-item} 実習問題2\n",
        "ユーザーが入力した言語が特定の言語リストに含まれるかどうかを判定し、結果を表示するプログラムを作成してください。条件は以下の通りです。\n",
        "\n",
        "- ユーザーが入力した言語がリスト languages に含まれている場合は、「サポートされている言語です」と表示します。\n",
        "- ユーザーが入力した言語がリスト languages に含まれていない場合で、リスト supported_languages に含まれている場合は、「他の言語でもサポートされています」と表示します。\n",
        "- 上記のいずれの場合でもない場合は、「サポートされていない言語です」と表示します。\n",
        "```\n",
        "````"
      ]
    },
    {
      "cell_type": "code",
      "source": [
        "age = 14\n",
        "if age <= 3:\n",
        "  print(\"free\")\n",
        "elif age >= 4 and age <= 12:\n",
        "  print(\"500円\")\n",
        "else:\n",
        "  print(\"1000円\")"
      ],
      "metadata": {
        "id": "-bmD4qxkF-v6",
        "outputId": "50ba95e9-47d5-443a-a72a-a5a408dca531",
        "colab": {
          "base_uri": "https://localhost:8080/"
        }
      },
      "execution_count": 47,
      "outputs": [
        {
          "output_type": "stream",
          "name": "stdout",
          "text": [
            "1000円\n"
          ]
        }
      ]
    },
    {
      "cell_type": "code",
      "source": [
        "age = 8\n",
        "\n",
        "if age <= 3:\n",
        "  fee = 0\n",
        "elif age >= 4 and age <= 12:\n",
        "  fee = 500\n",
        "else:\n",
        "  fee = 1000\n",
        "\n",
        "print(\"入場料金は\",fee,\"円です\")"
      ],
      "metadata": {
        "id": "T7xQp_rIHs9L",
        "outputId": "bcabd127-1acb-49da-ac22-ae1e515606ce",
        "colab": {
          "base_uri": "https://localhost:8080/"
        }
      },
      "execution_count": 61,
      "outputs": [
        {
          "output_type": "stream",
          "name": "stdout",
          "text": [
            "入場料金は 500 円です\n"
          ]
        }
      ]
    },
    {
      "cell_type": "code",
      "execution_count": 55,
      "metadata": {
        "id": "6x5j-SMt_bCM",
        "outputId": "963b1b64-ffe7-44f7-956d-12eb9b42af4c",
        "colab": {
          "base_uri": "https://localhost:8080/"
        }
      },
      "outputs": [
        {
          "output_type": "stream",
          "name": "stdout",
          "text": [
            "ほかの言語でもサポートされています\n"
          ]
        }
      ],
      "source": [
        "languages = [\"Python\", \"Java\", \"C++\", \"JavaScript\"]\n",
        "supported_languages = [\"Ruby\", \"Go\", \"PHP\"]\n",
        "\n",
        "user_language = \"PHP\" # user_languageを変えてみよう\n",
        "if user_language in languages:\n",
        "  print(\"サポートされている言語です\")\n",
        "elif user_language in supported_languages:\n",
        "  print(\"ほかの言語でもサポートされています\")\n",
        "else:\n",
        "  print(\"サポートされていない言語です\")"
      ]
    },
    {
      "cell_type": "markdown",
      "metadata": {
        "id": "vI_97guZ_bCM"
      },
      "source": []
    }
  ],
  "metadata": {
    "kernelspec": {
      "display_name": "jupyterbook",
      "language": "python",
      "name": "python3"
    },
    "language_info": {
      "codemirror_mode": {
        "name": "ipython",
        "version": 3
      },
      "file_extension": ".py",
      "mimetype": "text/x-python",
      "name": "python",
      "nbconvert_exporter": "python",
      "pygments_lexer": "ipython3",
      "version": "3.10.9"
    },
    "orig_nbformat": 4,
    "colab": {
      "provenance": []
    }
  },
  "nbformat": 4,
  "nbformat_minor": 0
}