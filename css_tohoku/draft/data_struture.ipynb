{
  "cells": [
    {
      "cell_type": "markdown",
      "metadata": {
        "id": "18qcrsbuCGLr"
      },
      "source": [
        "# データ構造\n",
        "\n",
        "今までは、ブール値、整数、浮動小数点数、文字列という基本データ型を説明しました。ここからは、これらの基本データ型を要素としてまとめて取り扱うデータとしての構造について説明します。"
      ]
    },
    {
      "cell_type": "markdown",
      "metadata": {
        "id": "bTzMSH9LCGLu"
      },
      "source": [
        "## タプル(tuple)"
      ]
    },
    {
      "cell_type": "markdown",
      "metadata": {
        "id": "b_rof2dpCGLv"
      },
      "source": [
        "タプルは、固定長で変更不可能(immutable)な一連のPythonオブジェクトの集合です。タプルでは、構成する要素としてあらゆる型のデータを指定できます。\n",
        "\n",
        "### タプルの作成\n",
        "\n",
        "タプルを作成するには、色々な方法があります。"
      ]
    },
    {
      "cell_type": "markdown",
      "metadata": {
        "id": "WDSGAoRICGLv"
      },
      "source": [
        "- コンマで値を区切ります"
      ]
    },
    {
      "cell_type": "code",
      "execution_count": 1,
      "metadata": {
        "id": "W7d_RjijCGLw",
        "outputId": "7e0f426f-759d-4f74-c0f9-cda6c303ad37",
        "colab": {
          "base_uri": "https://localhost:8080/"
        }
      },
      "outputs": [
        {
          "output_type": "execute_result",
          "data": {
            "text/plain": [
              "(4, 5, 6)"
            ]
          },
          "metadata": {},
          "execution_count": 1
        }
      ],
      "source": [
        "tup= 4, 5, 6\n",
        "tup"
      ]
    },
    {
      "cell_type": "markdown",
      "metadata": {
        "id": "KCSyUR9PCGLx"
      },
      "source": [
        "- 構成する要素をコンマで区切り全体を括弧```(...)```で囲みます"
      ]
    },
    {
      "cell_type": "code",
      "execution_count": 2,
      "metadata": {
        "id": "JbFgXmJ6CGLx"
      },
      "outputs": [],
      "source": [
        "tup= (4, 5, 6)"
      ]
    },
    {
      "cell_type": "markdown",
      "metadata": {
        "id": "u4HagRb4CGLx"
      },
      "source": [
        "- ```tuple```関数で他のシーケンスとイテレータを使ってタプルに変換する"
      ]
    },
    {
      "cell_type": "code",
      "execution_count": 4,
      "metadata": {
        "id": "EfUPPR-ICGLy",
        "outputId": "be56a4b4-6718-4901-e8b6-c5a94ee95916",
        "colab": {
          "base_uri": "https://localhost:8080/"
        }
      },
      "outputs": [
        {
          "output_type": "execute_result",
          "data": {
            "text/plain": [
              "('s', 't', 'r', 'i', 'n', 'g')"
            ]
          },
          "metadata": {},
          "execution_count": 4
        }
      ],
      "source": [
        "\n",
        "\n",
        "  robustr_tuple=tuple(\"string\")\n",
        "str_tuple"
      ]
    },
    {
      "cell_type": "code",
      "source": [
        "tup+str_tuple"
      ],
      "metadata": {
        "id": "-OBSiTVPDe3S",
        "outputId": "276970fb-4b9d-48c0-cfd2-fb18bbd1722e",
        "colab": {
          "base_uri": "https://localhost:8080/"
        }
      },
      "execution_count": 6,
      "outputs": [
        {
          "output_type": "execute_result",
          "data": {
            "text/plain": [
              "(4, 5, 6, 's', 't', 'r', 'i', 'n', 'g')"
            ]
          },
          "metadata": {},
          "execution_count": 6
        }
      ]
    },
    {
      "cell_type": "markdown",
      "metadata": {
        "id": "U-xviv4FCGLy"
      },
      "source": [
        "- タプルのタプルも作成できます"
      ]
    },
    {
      "cell_type": "code",
      "execution_count": 3,
      "metadata": {
        "id": "B4AWc_fxCGLy",
        "outputId": "89ae8e99-bcc6-4ae9-ed9f-5d4b0a695d18",
        "colab": {
          "base_uri": "https://localhost:8080/"
        }
      },
      "outputs": [
        {
          "output_type": "execute_result",
          "data": {
            "text/plain": [
              "((4, 5, 6), (7, 8))"
            ]
          },
          "metadata": {},
          "execution_count": 3
        }
      ],
      "source": [
        "nested_tuple= (4, 5, 6), (7, 8)\n",
        "nested_tuple"
      ]
    },
    {
      "cell_type": "markdown",
      "metadata": {
        "id": "UuCi7a9QCGLz"
      },
      "source": [
        "- ```+```による連結する"
      ]
    },
    {
      "cell_type": "code",
      "execution_count": null,
      "metadata": {
        "id": "zdxpQtLECGLz",
        "outputId": "1413a17b-437c-4230-f059-1676144a7bca"
      },
      "outputs": [
        {
          "data": {
            "text/plain": [
              "(4, 5, 6, 's', 't', 'r', 'i', 'n', 'g')"
            ]
          },
          "execution_count": 5,
          "metadata": {},
          "output_type": "execute_result"
        }
      ],
      "source": [
        "tup+str_tuple"
      ]
    },
    {
      "cell_type": "markdown",
      "metadata": {
        "id": "cZtmdyI4CGLz"
      },
      "source": [
        "- ```*```による繰り返し"
      ]
    },
    {
      "cell_type": "code",
      "execution_count": null,
      "metadata": {
        "id": "eFuHUkJWCGLz",
        "outputId": "66dced3c-747f-4bf7-ae42-4c462e9dba9e"
      },
      "outputs": [
        {
          "data": {
            "text/plain": [
              "(4, 5, 6, 4, 5, 6, 4, 5, 6)"
            ]
          },
          "execution_count": 6,
          "metadata": {},
          "output_type": "execute_result"
        }
      ],
      "source": [
        "tup*3"
      ]
    },
    {
      "cell_type": "markdown",
      "metadata": {
        "id": "GYvwgxXrCGLz"
      },
      "source": [
        "### タプルの操作"
      ]
    },
    {
      "cell_type": "markdown",
      "metadata": {
        "id": "raGbkw60CGL0"
      },
      "source": [
        "- 文字列と同じように、タプルの要素は```[]```で参照できます。"
      ]
    },
    {
      "cell_type": "code",
      "execution_count": null,
      "metadata": {
        "id": "CGPtbuF7CGL0",
        "outputId": "347fbf26-cd3a-4082-f172-2bd161d64c75"
      },
      "outputs": [
        {
          "data": {
            "text/plain": [
              "4"
            ]
          },
          "execution_count": 7,
          "metadata": {},
          "output_type": "execute_result"
        }
      ],
      "source": [
        "tup[0]"
      ]
    },
    {
      "cell_type": "code",
      "execution_count": null,
      "metadata": {
        "id": "cIJibyD5CGL0",
        "outputId": "b1763bf1-2019-4475-8945-52f61f62faee"
      },
      "outputs": [
        {
          "data": {
            "text/plain": [
              "(4, 5, 6)"
            ]
          },
          "execution_count": 8,
          "metadata": {},
          "output_type": "execute_result"
        }
      ],
      "source": [
        "nested_tuple[0]"
      ]
    },
    {
      "cell_type": "code",
      "execution_count": 7,
      "metadata": {
        "id": "vHb6VK1lCGL0",
        "outputId": "ddb0a3c7-e94c-494e-c07d-209ac066be5d",
        "colab": {
          "base_uri": "https://localhost:8080/"
        }
      },
      "outputs": [
        {
          "output_type": "execute_result",
          "data": {
            "text/plain": [
              "4"
            ]
          },
          "metadata": {},
          "execution_count": 7
        }
      ],
      "source": [
        "nested_tuple[0][0]"
      ]
    },
    {
      "cell_type": "markdown",
      "metadata": {
        "id": "9T4xp4BCCGL0"
      },
      "source": [
        "- ```len```タプルを構成する要素を数えます。"
      ]
    },
    {
      "cell_type": "code",
      "execution_count": 8,
      "metadata": {
        "id": "4JERlGDhCGL0",
        "outputId": "71a64808-f416-496a-d5f1-de4b2691480b",
        "colab": {
          "base_uri": "https://localhost:8080/"
        }
      },
      "outputs": [
        {
          "output_type": "execute_result",
          "data": {
            "text/plain": [
              "3"
            ]
          },
          "metadata": {},
          "execution_count": 8
        }
      ],
      "source": [
        "len(tup)"
      ]
    },
    {
      "cell_type": "markdown",
      "metadata": {
        "id": "g-1M2wCcCGL1"
      },
      "source": [
        "- タプルを書き換えることはできないです。"
      ]
    },
    {
      "cell_type": "code",
      "execution_count": 9,
      "metadata": {
        "id": "9JPx6rSyCGL1",
        "outputId": "98e64e75-8a3d-41ea-9bc1-b41a2e4efa1f",
        "colab": {
          "base_uri": "https://localhost:8080/",
          "height": 146
        }
      },
      "outputs": [
        {
          "output_type": "error",
          "ename": "TypeError",
          "evalue": "'tuple' object does not support item assignment",
          "traceback": [
            "\u001b[0;31m---------------------------------------------------------------------------\u001b[0m",
            "\u001b[0;31mTypeError\u001b[0m                                 Traceback (most recent call last)",
            "\u001b[0;32m<ipython-input-9-33cbc7c76e38>\u001b[0m in \u001b[0;36m<cell line: 0>\u001b[0;34m()\u001b[0m\n\u001b[0;32m----> 1\u001b[0;31m \u001b[0mtup\u001b[0m\u001b[0;34m[\u001b[0m\u001b[0;36m0\u001b[0m\u001b[0;34m]\u001b[0m\u001b[0;34m=\u001b[0m\u001b[0;36m1\u001b[0m\u001b[0;34m\u001b[0m\u001b[0;34m\u001b[0m\u001b[0m\n\u001b[0m",
            "\u001b[0;31mTypeError\u001b[0m: 'tuple' object does not support item assignment"
          ]
        }
      ],
      "source": [
        "tup[0]=1"
      ]
    },
    {
      "cell_type": "markdown",
      "metadata": {
        "id": "TCCxU64SCGL1"
      },
      "source": [
        "## リスト\n",
        "リストは、可変長で変更可能(mutable)な一連のPythonオブジェクトの集合です。つまり、タプルとは異なり、リスト内容は直接に変更できます。"
      ]
    },
    {
      "cell_type": "markdown",
      "metadata": {
        "id": "t3s_VYIyCGL1"
      },
      "source": [
        "### リストの作成\n",
        "- 構成する要素をコンマで区切り全体をかき括弧```[...]```で囲みます"
      ]
    },
    {
      "cell_type": "code",
      "execution_count": 95,
      "metadata": {
        "id": "k9flQ1J6CGL1",
        "outputId": "7b8494f5-30ae-4343-be4a-8efd93f4e6e3",
        "colab": {
          "base_uri": "https://localhost:8080/"
        }
      },
      "outputs": [
        {
          "output_type": "execute_result",
          "data": {
            "text/plain": [
              "['Weber', 'Weber', 'Parsons', 'Marx', 'Giddens', 'Durkheim']"
            ]
          },
          "metadata": {},
          "execution_count": 95
        }
      ],
      "source": [
        "list_a=['Weber', 'Weber', 'Parsons', 'Marx', 'Giddens', 'Durkheim']\n",
        "list_a"
      ]
    },
    {
      "cell_type": "markdown",
      "metadata": {
        "id": "AHWjQbl9CGL1"
      },
      "source": [
        "- ```list```関数で他のシーケンスとイテレータを使ってタプルに変換する"
      ]
    },
    {
      "cell_type": "markdown",
      "metadata": {
        "id": "Dr-OGjggCGL1"
      },
      "source": [
        "```{margin}\n",
        "リストとタプルは意味的に似ているので、多くの使い方を相互に使うことができます。\n",
        "```"
      ]
    },
    {
      "cell_type": "code",
      "execution_count": 20,
      "metadata": {
        "id": "zut6piTLCGL1",
        "outputId": "af226ba9-ba85-46fe-af98-1fbbdd9e201a",
        "colab": {
          "base_uri": "https://localhost:8080/"
        }
      },
      "outputs": [
        {
          "output_type": "execute_result",
          "data": {
            "text/plain": [
              "[4, 5, 6]"
            ]
          },
          "metadata": {},
          "execution_count": 20
        }
      ],
      "source": [
        "list_b=list(tup)\n",
        "list_b"
      ]
    },
    {
      "cell_type": "markdown",
      "metadata": {
        "id": "TRaYZBRzCGL1"
      },
      "source": [
        "### リストの操作\n",
        "\n",
        "リストはミュータブルであるため、新しい要素を追加したり、既存の要素を削除、置換したりできます。"
      ]
    },
    {
      "cell_type": "markdown",
      "metadata": {
        "id": "R1XA53PiCGL1"
      },
      "source": [
        "- ```append```による末尾への要素の追加"
      ]
    },
    {
      "cell_type": "code",
      "execution_count": 15,
      "metadata": {
        "id": "54mIWkn6CGL1",
        "outputId": "677b9a55-d7c6-4e1b-870c-4b52bf3306e4",
        "colab": {
          "base_uri": "https://localhost:8080/"
        }
      },
      "outputs": [
        {
          "output_type": "execute_result",
          "data": {
            "text/plain": [
              "['Weber', 'Weber', 'Parsons', 'Marx', 'Giddens', 'Durkheim', 4]"
            ]
          },
          "metadata": {},
          "execution_count": 15
        }
      ],
      "source": [
        "list_a.append(4)\n",
        "list_a"
      ]
    },
    {
      "cell_type": "markdown",
      "metadata": {
        "id": "zYyYBq-1CGL1"
      },
      "source": [
        "- ```insert```による特定の位置に要素を挿入"
      ]
    },
    {
      "cell_type": "markdown",
      "metadata": {
        "id": "hBs0PLVmCGL2"
      },
      "source": [
        "```{margin}\n",
        "リストとタプルにおける要素の型は一緒でなくでも構いません。\n",
        "```"
      ]
    },
    {
      "cell_type": "code",
      "execution_count": 18,
      "metadata": {
        "id": "9gI9FhvzCGL2",
        "outputId": "fa45b585-7e0c-4290-959a-912da0726463",
        "colab": {
          "base_uri": "https://localhost:8080/"
        }
      },
      "outputs": [
        {
          "output_type": "execute_result",
          "data": {
            "text/plain": [
              "['Weber',\n",
              " 'Marx',\n",
              " 'Marx',\n",
              " 'Weber',\n",
              " 'Weber',\n",
              " 'Parsons',\n",
              " 'Marx',\n",
              " 'Giddens',\n",
              " 'Durkheim',\n",
              " 4]"
            ]
          },
          "metadata": {},
          "execution_count": 18
        }
      ],
      "source": [
        "list_a.insert(1, \"Marx\")\n",
        "list_a"
      ]
    },
    {
      "cell_type": "markdown",
      "metadata": {
        "id": "Fz2UQhIACGL2"
      },
      "source": [
        "- ```extend```によるリストの連結"
      ]
    },
    {
      "cell_type": "code",
      "execution_count": 21,
      "metadata": {
        "id": "PCHdzRRdCGL2",
        "outputId": "c5167d9a-af29-4751-e247-59b44cca9cef",
        "colab": {
          "base_uri": "https://localhost:8080/"
        }
      },
      "outputs": [
        {
          "output_type": "execute_result",
          "data": {
            "text/plain": [
              "['Weber',\n",
              " 'Marx',\n",
              " 'Marx',\n",
              " 'Weber',\n",
              " 'Weber',\n",
              " 'Parsons',\n",
              " 'Marx',\n",
              " 'Giddens',\n",
              " 'Durkheim',\n",
              " 4,\n",
              " 4,\n",
              " 5,\n",
              " 6]"
            ]
          },
          "metadata": {},
          "execution_count": 21
        }
      ],
      "source": [
        "list_a.extend(list_b)\n",
        "list_a"
      ]
    },
    {
      "cell_type": "markdown",
      "metadata": {
        "id": "eI8o147TCGL2"
      },
      "source": [
        "- スライスによるリストの要素を書き換え"
      ]
    },
    {
      "cell_type": "code",
      "execution_count": 22,
      "metadata": {
        "id": "kJ9Yqp8GCGMA",
        "outputId": "30ed8ed3-5c53-4eb5-dde2-c3a46be69449",
        "colab": {
          "base_uri": "https://localhost:8080/"
        }
      },
      "outputs": [
        {
          "output_type": "execute_result",
          "data": {
            "text/plain": [
              "['Weber',\n",
              " 'Marx',\n",
              " 'Marx',\n",
              " 'Weber',\n",
              " 'Weber',\n",
              " 'Marx',\n",
              " 'Marx',\n",
              " 'Giddens',\n",
              " 'Durkheim',\n",
              " 4,\n",
              " 4,\n",
              " 5,\n",
              " 6]"
            ]
          },
          "metadata": {},
          "execution_count": 22
        }
      ],
      "source": [
        "list_a[5]= \"Marx\"\n",
        "list_a"
      ]
    },
    {
      "cell_type": "code",
      "execution_count": 23,
      "metadata": {
        "id": "s0zkvZSSCGMA",
        "outputId": "e411bf6a-f320-48e1-9955-7dede3f2b569",
        "colab": {
          "base_uri": "https://localhost:8080/"
        }
      },
      "outputs": [
        {
          "output_type": "execute_result",
          "data": {
            "text/plain": [
              "['Weber', 'Marx', 'Marx', 'Weber', 'Weber', 'Marx', 'Durkheim', 'Parsons']"
            ]
          },
          "metadata": {},
          "execution_count": 23
        }
      ],
      "source": [
        "list_a[5:]= [\"Marx\",\"Durkheim\",\"Parsons\"]\n",
        "list_a"
      ]
    },
    {
      "cell_type": "markdown",
      "metadata": {
        "id": "L7IYJyOLCGMB"
      },
      "source": [
        "- ```remove```による値を指定した要素を削除\n",
        "\n",
        "```{margin}\n",
        "削除しよう要素が複数ある場合、remove()は最初に見つかった要素だけ削除する\n",
        "```"
      ]
    },
    {
      "cell_type": "code",
      "execution_count": 96,
      "metadata": {
        "id": "JMS7clYsCGMB",
        "outputId": "11728157-929d-4295-c23a-7d399937ab59",
        "colab": {
          "base_uri": "https://localhost:8080/"
        }
      },
      "outputs": [
        {
          "output_type": "execute_result",
          "data": {
            "text/plain": [
              "['Weber', 'Weber', 'Parsons', 'Giddens', 'Durkheim']"
            ]
          },
          "metadata": {},
          "execution_count": 96
        }
      ],
      "source": [
        "list_a.remove(\"Marx\")\n",
        "list_a"
      ]
    },
    {
      "cell_type": "markdown",
      "metadata": {
        "id": "nMGZ8sCsCGMB"
      },
      "source": [
        "- ```del```による特定の位置の要素を削除\n"
      ]
    },
    {
      "cell_type": "code",
      "execution_count": 47,
      "metadata": {
        "id": "7H0CtNtBCGMB",
        "outputId": "6fd57c09-2e72-4905-a278-14472409533e",
        "colab": {
          "base_uri": "https://localhost:8080/"
        }
      },
      "outputs": [
        {
          "output_type": "execute_result",
          "data": {
            "text/plain": [
              "['Weber', 'Parsons', 'Marx', 'Giddens', 'Durkheim']"
            ]
          },
          "metadata": {},
          "execution_count": 47
        }
      ],
      "source": [
        "del list_a[1]\n",
        "list_a"
      ]
    },
    {
      "cell_type": "markdown",
      "metadata": {
        "id": "0kzPSkwACGMB"
      },
      "source": [
        "- ```pop```による指定して要素を取り出し、削除する方法"
      ]
    },
    {
      "cell_type": "code",
      "execution_count": 90,
      "metadata": {
        "id": "94lFC5lFCGMB",
        "outputId": "e2ed16d0-6b94-4441-9944-81e7098f29d4",
        "colab": {
          "base_uri": "https://localhost:8080/",
          "height": 35
        }
      },
      "outputs": [
        {
          "output_type": "execute_result",
          "data": {
            "text/plain": [
              "'Marx'"
            ],
            "application/vnd.google.colaboratory.intrinsic+json": {
              "type": "string"
            }
          },
          "metadata": {},
          "execution_count": 90
        }
      ],
      "source": [
        "list_a.pop(0)"
      ]
    },
    {
      "cell_type": "markdown",
      "metadata": {
        "id": "A-5XPCm4CGMB"
      },
      "source": [
        "- ```=```による代入"
      ]
    },
    {
      "cell_type": "code",
      "execution_count": 48,
      "metadata": {
        "id": "CKE6BDC1CGMB",
        "outputId": "3d3a1fc5-be20-46ba-8eef-090a3c369b8e",
        "colab": {
          "base_uri": "https://localhost:8080/"
        }
      },
      "outputs": [
        {
          "output_type": "execute_result",
          "data": {
            "text/plain": [
              "['Weber', 'Giddens', 'Marx', 'Giddens', 'Durkheim']"
            ]
          },
          "metadata": {},
          "execution_count": 48
        }
      ],
      "source": [
        "list_a[1]=\"Giddens\"\n",
        "list_a"
      ]
    },
    {
      "cell_type": "markdown",
      "metadata": {
        "id": "BBnl3bVrCGMB"
      },
      "source": [
        "- ```in```による要素の有無を確認"
      ]
    },
    {
      "cell_type": "code",
      "execution_count": 49,
      "metadata": {
        "id": "EzabGkUACGMB",
        "outputId": "66975ae0-1ac7-49d5-aeec-9ed306e5ee91",
        "colab": {
          "base_uri": "https://localhost:8080/"
        }
      },
      "outputs": [
        {
          "output_type": "execute_result",
          "data": {
            "text/plain": [
              "True"
            ]
          },
          "metadata": {},
          "execution_count": 49
        }
      ],
      "source": [
        "'Weber' in list_a"
      ]
    },
    {
      "cell_type": "code",
      "execution_count": 50,
      "metadata": {
        "id": "PKcPNmGQCGMB",
        "outputId": "673afff1-27c2-4a36-9ade-e89968f507c5",
        "colab": {
          "base_uri": "https://localhost:8080/"
        }
      },
      "outputs": [
        {
          "output_type": "execute_result",
          "data": {
            "text/plain": [
              "False"
            ]
          },
          "metadata": {},
          "execution_count": 50
        }
      ],
      "source": [
        "'Merton' in list_a"
      ]
    },
    {
      "cell_type": "markdown",
      "metadata": {
        "id": "cE5Qftr_CGMB"
      },
      "source": [
        "- ```sort```による要素の並べ替え\n",
        "\n",
        "```sort```メソッドはリスト内の要素を並べ替えます。 引数に何も指定しなければ昇順でとなります。\n",
        "\n",
        "要素が文字列なら、アルファベット順でソードされます。"
      ]
    },
    {
      "cell_type": "code",
      "execution_count": 51,
      "metadata": {
        "id": "WkdfH3yzCGMC",
        "outputId": "c47c5111-4c2b-4b5e-ffa9-61c387dfecfa",
        "colab": {
          "base_uri": "https://localhost:8080/"
        }
      },
      "outputs": [
        {
          "output_type": "execute_result",
          "data": {
            "text/plain": [
              "['Durkheim', 'Giddens', 'Giddens', 'Marx', 'Weber']"
            ]
          },
          "metadata": {},
          "execution_count": 51
        }
      ],
      "source": [
        "list_a.sort()\n",
        "list_a"
      ]
    },
    {
      "cell_type": "markdown",
      "metadata": {
        "id": "Mm78qSZcCGMC"
      },
      "source": [
        "```reverse=True```引数を追加すれば降順になります・"
      ]
    },
    {
      "cell_type": "code",
      "execution_count": 52,
      "metadata": {
        "id": "j_kLCEJsCGMC",
        "outputId": "4c7fb353-7a17-4006-a9b2-189ac62d6ce3",
        "colab": {
          "base_uri": "https://localhost:8080/"
        }
      },
      "outputs": [
        {
          "output_type": "execute_result",
          "data": {
            "text/plain": [
              "['Weber', 'Marx', 'Giddens', 'Giddens', 'Durkheim']"
            ]
          },
          "metadata": {},
          "execution_count": 52
        }
      ],
      "source": [
        "list_a.sort(reverse=True)\n",
        "list_a"
      ]
    },
    {
      "cell_type": "markdown",
      "metadata": {
        "id": "oX4SuEJSCGMC"
      },
      "source": [
        "## セット(set)\n",
        "\n",
        "セット(set)は、重複しない要素の集合です。\n",
        "\n",
        "### セットの作成\n",
        "\n",
        "```{margin}\n",
        "セットは一意な要素の集合なので、作成する際同じ要素は複数がいる場合、一つしか含まれないです。\n",
        "```"
      ]
    },
    {
      "cell_type": "markdown",
      "metadata": {
        "id": "RNeYctE6CGMC"
      },
      "source": [
        "- 構成する要素をコンマで区切り全体を波括弧```{...}```で囲みます"
      ]
    },
    {
      "cell_type": "code",
      "execution_count": 53,
      "metadata": {
        "id": "5VIYUNCXCGMC",
        "outputId": "24b2bc55-7b99-4e80-f689-280df54b2f04",
        "colab": {
          "base_uri": "https://localhost:8080/"
        }
      },
      "outputs": [
        {
          "output_type": "execute_result",
          "data": {
            "text/plain": [
              "{1, 2, 4}"
            ]
          },
          "metadata": {},
          "execution_count": 53
        }
      ],
      "source": [
        "set_a={1,2,2,4}\n",
        "set_a"
      ]
    },
    {
      "cell_type": "markdown",
      "metadata": {
        "id": "oEnQwupeCGMC"
      },
      "source": [
        "- ```set()```関数で作成する。"
      ]
    },
    {
      "cell_type": "code",
      "execution_count": 54,
      "metadata": {
        "id": "qRhBCqJwCGMC",
        "outputId": "fb4e9795-3808-4284-eead-7c4c27fd4929",
        "colab": {
          "base_uri": "https://localhost:8080/"
        }
      },
      "outputs": [
        {
          "output_type": "execute_result",
          "data": {
            "text/plain": [
              "{'Durkheim', 'Giddens', 'Marx', 'Parsons', 'Weber'}"
            ]
          },
          "metadata": {},
          "execution_count": 54
        }
      ],
      "source": [
        "set_b=set(['Durkheim', 'Giddens', 'Marx', 'Marx','Parsons', 'Weber'])\n",
        "set_b"
      ]
    },
    {
      "cell_type": "markdown",
      "metadata": {
        "id": "4h19XrgeCGMC"
      },
      "source": [
        "### セットの操作"
      ]
    },
    {
      "cell_type": "markdown",
      "metadata": {
        "id": "ZNSJbQWMCGMC"
      },
      "source": [
        "- ```len()```による要素数の取得"
      ]
    },
    {
      "cell_type": "code",
      "execution_count": null,
      "metadata": {
        "id": "RrN1pRddCGMC",
        "outputId": "67d4ae38-f124-40c3-b5b3-7fc3642b429e"
      },
      "outputs": [
        {
          "data": {
            "text/plain": [
              "3"
            ]
          },
          "execution_count": 23,
          "metadata": {},
          "output_type": "execute_result"
        }
      ],
      "source": [
        "len(set_a)"
      ]
    },
    {
      "cell_type": "markdown",
      "metadata": {
        "id": "m_X07KxMCGMC"
      },
      "source": [
        "- ```add()```による要素の追加"
      ]
    },
    {
      "cell_type": "code",
      "execution_count": 55,
      "metadata": {
        "id": "2CcdsVRdCGMC",
        "outputId": "e122da7d-9277-45eb-b261-360a6a1f32d8",
        "colab": {
          "base_uri": "https://localhost:8080/"
        }
      },
      "outputs": [
        {
          "output_type": "execute_result",
          "data": {
            "text/plain": [
              "{'Durkheim', 'Giddens', 'Marx', 'Merton', 'Parsons', 'Weber'}"
            ]
          },
          "metadata": {},
          "execution_count": 55
        }
      ],
      "source": [
        "set_b.add('Merton')\n",
        "set_b"
      ]
    },
    {
      "cell_type": "markdown",
      "metadata": {
        "id": "XFRhnkPiCGMD"
      },
      "source": [
        "- ```remove()```による要素の削除"
      ]
    },
    {
      "cell_type": "code",
      "execution_count": 56,
      "metadata": {
        "id": "KhCaXHYjCGMD",
        "outputId": "d3e38017-de43-457e-ac87-326794e035e8",
        "colab": {
          "base_uri": "https://localhost:8080/"
        }
      },
      "outputs": [
        {
          "output_type": "execute_result",
          "data": {
            "text/plain": [
              "{'Durkheim', 'Giddens', 'Marx', 'Parsons', 'Weber'}"
            ]
          },
          "metadata": {},
          "execution_count": 56
        }
      ],
      "source": [
        "set_b.remove('Merton')\n",
        "set_b"
      ]
    },
    {
      "cell_type": "markdown",
      "metadata": {
        "id": "xIlbi-aWCGMD"
      },
      "source": [
        "### セットの集合演算\n",
        "セットは、数学的な集合演算をサポートします。"
      ]
    },
    {
      "cell_type": "markdown",
      "metadata": {
        "id": "MFcEgOmuCGMD"
      },
      "source": [
        "- セットの和"
      ]
    },
    {
      "cell_type": "code",
      "execution_count": 97,
      "metadata": {
        "id": "xzEKa7FXCGMD",
        "outputId": "cf3787c6-d1e3-443b-d722-bb149af5fee5",
        "colab": {
          "base_uri": "https://localhost:8080/"
        }
      },
      "outputs": [
        {
          "output_type": "execute_result",
          "data": {
            "text/plain": [
              "{1, 2, 4, 'Durkheim', 'Giddens', 'Marx', 'Parsons', 'Weber'}"
            ]
          },
          "metadata": {},
          "execution_count": 97
        }
      ],
      "source": [
        "set_b.union(set_a)"
      ]
    },
    {
      "cell_type": "markdown",
      "metadata": {
        "id": "4AS5d0chCGMD"
      },
      "source": [
        "- セットの積は、両方のセットに存在する要素が含まれます。"
      ]
    },
    {
      "cell_type": "code",
      "execution_count": 58,
      "metadata": {
        "id": "IyttSNFSCGMD",
        "outputId": "b476d647-4dc6-4b87-c066-c0bf6533c87b",
        "colab": {
          "base_uri": "https://localhost:8080/"
        }
      },
      "outputs": [
        {
          "output_type": "execute_result",
          "data": {
            "text/plain": [
              "set()"
            ]
          },
          "metadata": {},
          "execution_count": 58
        }
      ],
      "source": [
        "set_b.intersection(set_a)"
      ]
    },
    {
      "cell_type": "markdown",
      "metadata": {
        "id": "32pGDAN1CGMD"
      },
      "source": [
        "## 辞書(dict)"
      ]
    },
    {
      "cell_type": "markdown",
      "metadata": {
        "id": "sBU0bDNNCGMD"
      },
      "source": [
        "辞書（dictionary）は、キー（key）と値（value）のペアを格納するデータ構造です。キーはユニークである必要があり、値は重複して格納することができます。\n",
        "\n",
        "辞書はミュータブルなので、キーと値要素を追加、削除、変更することは可能です。"
      ]
    },
    {
      "cell_type": "markdown",
      "metadata": {
        "id": "eGVkw81mCGMD"
      },
      "source": [
        "### 辞書の作成"
      ]
    },
    {
      "cell_type": "markdown",
      "metadata": {
        "id": "L8oWraHfCGMD"
      },
      "source": [
        "辞書は波括弧```{}```で囲まれ、キーと値のペアはコロン:で区切って並べ、```{key:value}```という形で作れます。\n",
        "\n",
        "- 辞書にキーとして使用できるのは、イミュータブル型(例えば、整数、浮動小数点数、文字列、タプルなど)しか使用できません。\n",
        "- 辞書のキーはユニークである必要があります。\n",
        "\n",
        "\n",
        "```{margin}\n",
        "```{}```でキーと値を持たない空辞書を作れます。\n",
        "```"
      ]
    },
    {
      "cell_type": "code",
      "execution_count": 75,
      "metadata": {
        "id": "Te8QRX04CGMD"
      },
      "outputs": [],
      "source": [
        "nation={\n",
        "    \"Marx\": \"German\",\n",
        "    \"Weber\": \"German\",\n",
        "    \"Durkheim\":\"France\",\n",
        "    \"Parsons\":\"America\"\n",
        "}"
      ]
    },
    {
      "cell_type": "code",
      "execution_count": 60,
      "metadata": {
        "id": "rFquadzPCGMD"
      },
      "outputs": [],
      "source": [
        "birth=dict(Marx=1818, Weber=1864, Durkheim=1858, Parsons=1902)"
      ]
    },
    {
      "cell_type": "code",
      "execution_count": 72,
      "metadata": {
        "id": "R-g6ITs5CGMD"
      },
      "outputs": [],
      "source": [
        "birth=dict([(\"Marx\",1818), (\"Weber\",1864), (\"Durkheim\",1858), (\"Parsons\",1902)])"
      ]
    },
    {
      "cell_type": "markdown",
      "metadata": {
        "id": "puSMZUjuCGMD"
      },
      "source": [
        "### 辞書に要素の追加・変更"
      ]
    },
    {
      "cell_type": "markdown",
      "metadata": {
        "id": "MnKu3fLMCGME"
      },
      "source": [
        "- キーを使って要素を参照し、値を代入することで辞書に要素を追加できます。"
      ]
    },
    {
      "cell_type": "code",
      "execution_count": 77,
      "metadata": {
        "id": "QPLVQnVoCGME"
      },
      "outputs": [],
      "source": [
        "nation[\"Merton\"]=\"America\""
      ]
    },
    {
      "cell_type": "code",
      "execution_count": 149,
      "metadata": {
        "id": "s5uaDDMdCGME",
        "outputId": "5edafa6d-a9bd-434a-ba94-8b854f6456c3",
        "colab": {
          "base_uri": "https://localhost:8080/"
        }
      },
      "outputs": [
        {
          "output_type": "execute_result",
          "data": {
            "text/plain": [
              "{'Marx': 'German',\n",
              " 'Weber': 'German',\n",
              " 'Durkheim': 'France',\n",
              " 'Parsons': 'America',\n",
              " 'Merton': 'America',\n",
              " 'Goffman': 'America',\n",
              " 'Habermas': 'Germany'}"
            ]
          },
          "metadata": {},
          "execution_count": 149
        }
      ],
      "source": [
        "nation"
      ]
    },
    {
      "cell_type": "markdown",
      "metadata": {
        "id": "EAz9PLk7CGME"
      },
      "source": [
        "- キーはユニークでなければならないので、キーを複数回使った場合、最後の値が辞書に保留されます。"
      ]
    },
    {
      "cell_type": "code",
      "execution_count": 65,
      "metadata": {
        "id": "LZg-7K1YCGME"
      },
      "outputs": [],
      "source": [
        "birth[\"Merton\"]=1911 # 間違い"
      ]
    },
    {
      "cell_type": "code",
      "execution_count": 82,
      "metadata": {
        "id": "guj5JLruCGME",
        "outputId": "097e8ffa-2353-4f23-dd35-ca5396073e3c",
        "colab": {
          "base_uri": "https://localhost:8080/"
        }
      },
      "outputs": [
        {
          "output_type": "execute_result",
          "data": {
            "text/plain": [
              "{'Marx': 1818,\n",
              " 'Weber': 1864,\n",
              " 'Durkheim': 1858,\n",
              " 'Parsons': 1902,\n",
              " 'Merton': 1910}"
            ]
          },
          "metadata": {},
          "execution_count": 82
        }
      ],
      "source": [
        "birth"
      ]
    },
    {
      "cell_type": "code",
      "execution_count": 81,
      "metadata": {
        "id": "F-rzxJM0CGME"
      },
      "outputs": [],
      "source": [
        "birth[\"Merton\"]=1910 # 正しい値"
      ]
    },
    {
      "cell_type": "code",
      "execution_count": 107,
      "metadata": {
        "id": "TDOWKF4xCGME",
        "outputId": "e76ed39e-9e8d-46d4-f066-0bd0121f06cd",
        "colab": {
          "base_uri": "https://localhost:8080/"
        }
      },
      "outputs": [
        {
          "output_type": "execute_result",
          "data": {
            "text/plain": [
              "{'Marx': 1818,\n",
              " 'Weber': 1864,\n",
              " 'Durkheim': 1858,\n",
              " 'Parsons': 1902,\n",
              " 'Merton': 1910}"
            ]
          },
          "metadata": {},
          "execution_count": 107
        }
      ],
      "source": [
        "birth"
      ]
    },
    {
      "cell_type": "markdown",
      "metadata": {
        "id": "q8DOkBryCGME"
      },
      "source": [
        "### 要素の取得"
      ]
    },
    {
      "cell_type": "markdown",
      "metadata": {
        "id": "Ik6eZE8eCGME"
      },
      "source": [
        "- 辞書のもっとも一般的な用途は、キーを指定して、対応する値を取り出すことです。"
      ]
    },
    {
      "cell_type": "code",
      "execution_count": 84,
      "metadata": {
        "id": "q3sTjYPxCGME",
        "outputId": "109e5d5e-51da-4f23-e443-58f0346156c2",
        "colab": {
          "base_uri": "https://localhost:8080/",
          "height": 35
        }
      },
      "outputs": [
        {
          "output_type": "execute_result",
          "data": {
            "text/plain": [
              "'France'"
            ],
            "application/vnd.google.colaboratory.intrinsic+json": {
              "type": "string"
            }
          },
          "metadata": {},
          "execution_count": 84
        }
      ],
      "source": [
        "nation[\"Durkheim\"]"
      ]
    },
    {
      "cell_type": "code",
      "execution_count": 85,
      "metadata": {
        "id": "oGvjxYOvCGME",
        "outputId": "065a7f2a-4e60-4799-935e-88047ce983ca",
        "colab": {
          "base_uri": "https://localhost:8080/",
          "height": 35
        }
      },
      "outputs": [
        {
          "output_type": "execute_result",
          "data": {
            "text/plain": [
              "'France'"
            ],
            "application/vnd.google.colaboratory.intrinsic+json": {
              "type": "string"
            }
          },
          "metadata": {},
          "execution_count": 85
        }
      ],
      "source": [
        "nation.get(\"Durkheim\")"
      ]
    },
    {
      "cell_type": "markdown",
      "metadata": {
        "id": "p0YXWzh2CGME"
      },
      "source": [
        "- ```keys()```によるすべてのキーの取得"
      ]
    },
    {
      "cell_type": "code",
      "execution_count": 87,
      "metadata": {
        "id": "cYqytgwYCGME",
        "outputId": "b8fabce5-05ec-4097-cf02-c12ed3cb041a",
        "colab": {
          "base_uri": "https://localhost:8080/"
        }
      },
      "outputs": [
        {
          "output_type": "execute_result",
          "data": {
            "text/plain": [
              "dict_keys(['Marx', 'Weber', 'Durkheim', 'Parsons', 'Merton'])"
            ]
          },
          "metadata": {},
          "execution_count": 87
        }
      ],
      "source": [
        "nation.keys()"
      ]
    },
    {
      "cell_type": "markdown",
      "metadata": {
        "id": "AZ7s3hpSCGME"
      },
      "source": [
        "- ```values()```によるすべての値の取得"
      ]
    },
    {
      "cell_type": "code",
      "source": [
        "birth.keys()"
      ],
      "metadata": {
        "id": "5FjpNQQSMlfh",
        "outputId": "4a253c77-e110-48f3-d6a0-94997d93abe0",
        "colab": {
          "base_uri": "https://localhost:8080/"
        }
      },
      "execution_count": 101,
      "outputs": [
        {
          "output_type": "execute_result",
          "data": {
            "text/plain": [
              "dict_keys(['Marx', 'Weber', 'Durkheim', 'Parsons', 'Merton'])"
            ]
          },
          "metadata": {},
          "execution_count": 101
        }
      ]
    },
    {
      "cell_type": "code",
      "source": [
        "birth.values()"
      ],
      "metadata": {
        "id": "-bibVvbTMoZD",
        "outputId": "8f924980-e011-488c-f6cc-9bd593376f74",
        "colab": {
          "base_uri": "https://localhost:8080/"
        }
      },
      "execution_count": 108,
      "outputs": [
        {
          "output_type": "execute_result",
          "data": {
            "text/plain": [
              "dict_values([1818, 1864, 1858, 1902, 1910])"
            ]
          },
          "metadata": {},
          "execution_count": 108
        }
      ]
    },
    {
      "cell_type": "code",
      "execution_count": 98,
      "metadata": {
        "id": "4Yw-mevaCGMF",
        "outputId": "39a813ed-e93f-4e28-ab96-beb75c6c250f",
        "colab": {
          "base_uri": "https://localhost:8080/"
        }
      },
      "outputs": [
        {
          "output_type": "execute_result",
          "data": {
            "text/plain": [
              "dict_values(['German', 'German', 'France', 'America', 'America'])"
            ]
          },
          "metadata": {},
          "execution_count": 98
        }
      ],
      "source": [
        "nation.values()"
      ]
    },
    {
      "cell_type": "markdown",
      "metadata": {
        "id": "b7xwPGw9CGMF"
      },
      "source": [
        "- ```items()```によるキー・値ペアの取得"
      ]
    },
    {
      "cell_type": "code",
      "execution_count": 99,
      "metadata": {
        "id": "JGtGr9AwCGMF",
        "outputId": "5384f8b5-69c3-4b32-987a-5ca221b6ae50",
        "colab": {
          "base_uri": "https://localhost:8080/"
        }
      },
      "outputs": [
        {
          "output_type": "execute_result",
          "data": {
            "text/plain": [
              "dict_items([('Marx', 'German'), ('Weber', 'German'), ('Durkheim', 'France'), ('Parsons', 'America'), ('Merton', 'America')])"
            ]
          },
          "metadata": {},
          "execution_count": 99
        }
      ],
      "source": [
        "nation.items()"
      ]
    },
    {
      "cell_type": "markdown",
      "metadata": {
        "id": "cYXPgYsfCGMF"
      },
      "source": [
        "- ```len()```による長さの取得"
      ]
    },
    {
      "cell_type": "code",
      "execution_count": 100,
      "metadata": {
        "id": "796eZKnfCGMF",
        "outputId": "17793405-5bee-40fe-853e-2453e4f6d7dc",
        "colab": {
          "base_uri": "https://localhost:8080/"
        }
      },
      "outputs": [
        {
          "output_type": "execute_result",
          "data": {
            "text/plain": [
              "5"
            ]
          },
          "metadata": {},
          "execution_count": 100
        }
      ],
      "source": [
        "len(nation)"
      ]
    },
    {
      "cell_type": "markdown",
      "metadata": {
        "id": "fwqHu6lGCGMF"
      },
      "source": [
        "- ```update()```による辞書の結合\n",
        "\n",
        "```{margin}\n",
        "第2辞書が第1辞書と同じキーを持っている場合、```update()```による第2辞書の値が保留されます。\n",
        "```"
      ]
    },
    {
      "cell_type": "code",
      "execution_count": 104,
      "metadata": {
        "id": "ZkZNouQZCGMF"
      },
      "outputs": [],
      "source": [
        "nation2=dict(Goffman=\"America\", Giddens=\"England\", Habermas=\"Germany\")"
      ]
    },
    {
      "cell_type": "code",
      "execution_count": 105,
      "metadata": {
        "id": "X29DloyvCGMF",
        "outputId": "e8fa5c61-3a9f-4bab-9a5a-a8b084c08cd6",
        "colab": {
          "base_uri": "https://localhost:8080/"
        }
      },
      "outputs": [
        {
          "output_type": "execute_result",
          "data": {
            "text/plain": [
              "{'Marx': 'German',\n",
              " 'Weber': 'German',\n",
              " 'Durkheim': 'France',\n",
              " 'Parsons': 'America',\n",
              " 'Merton': 'America',\n",
              " 'Goffman': 'America',\n",
              " 'Giddens': 'England',\n",
              " 'Habermas': 'Germany'}"
            ]
          },
          "metadata": {},
          "execution_count": 105
        }
      ],
      "source": [
        "nation.update(nation2)\n",
        "nation"
      ]
    },
    {
      "cell_type": "markdown",
      "metadata": {
        "id": "JtGpyvlrCGMF"
      },
      "source": [
        "- ```del```による指定したキーを持つ要素の削除"
      ]
    },
    {
      "cell_type": "code",
      "execution_count": 106,
      "metadata": {
        "id": "YZ1_667TCGMF",
        "outputId": "88a6f302-0d2a-4fd9-a5f0-1c24cf87958a",
        "colab": {
          "base_uri": "https://localhost:8080/"
        }
      },
      "outputs": [
        {
          "output_type": "execute_result",
          "data": {
            "text/plain": [
              "{'Marx': 'German',\n",
              " 'Weber': 'German',\n",
              " 'Durkheim': 'France',\n",
              " 'Parsons': 'America',\n",
              " 'Merton': 'America',\n",
              " 'Goffman': 'America',\n",
              " 'Habermas': 'Germany'}"
            ]
          },
          "metadata": {},
          "execution_count": 106
        }
      ],
      "source": [
        "del nation['Giddens']\n",
        "nation"
      ]
    },
    {
      "cell_type": "markdown",
      "metadata": {
        "id": "clQPojGkCGMF"
      },
      "source": [
        "````{tab-set}\n",
        "```{tab-item} 実習問題1\n",
        "下の表が社会学者の没年を示している。社会学者の名前をキー、没年を値として辞書を作ってください。\n",
        "\n",
        "| 名前     | 没年 |\n",
        "|----------|---------|\n",
        "| Marx     | 1883    |\n",
        "| Weber    | 1864    |\n",
        "| Durkheim | 1917    |\n",
        "\n",
        "```\n",
        "```{tab-item} 実習問題2\n",
        "```Merton```の没年である```2003```を先の辞書に追加してください。\n",
        "```\n",
        "```{tab-item} 実習問題3\n",
        "```Marx```の享年を計算してください。\n",
        "```\n",
        "\n",
        "````"
      ]
    },
    {
      "cell_type": "code",
      "source": [
        "nation"
      ],
      "metadata": {
        "id": "Cz9Ua_gGM9bG",
        "outputId": "bd49b7fa-08db-45d4-bdeb-fe1605e8c4f0",
        "colab": {
          "base_uri": "https://localhost:8080/"
        }
      },
      "execution_count": 146,
      "outputs": [
        {
          "output_type": "execute_result",
          "data": {
            "text/plain": [
              "{'Marx': 'German',\n",
              " 'Weber': 'German',\n",
              " 'Durkheim': 'France',\n",
              " 'Parsons': 'America',\n",
              " 'Merton': 'America',\n",
              " 'Goffman': 'America',\n",
              " 'Habermas': 'Germany'}"
            ]
          },
          "metadata": {},
          "execution_count": 146
        }
      ]
    },
    {
      "cell_type": "code",
      "source": [
        "dead={\"Marx\":1883,\"Weber\":1864, \"Durkheim\":1917}\n",
        "dead"
      ],
      "metadata": {
        "id": "1uWE22dUPFWa",
        "outputId": "be8ab524-3942-40f0-9251-8f6ca5dbc081",
        "colab": {
          "base_uri": "https://localhost:8080/"
        }
      },
      "execution_count": 127,
      "outputs": [
        {
          "output_type": "execute_result",
          "data": {
            "text/plain": [
              "{'Marx': 1883, 'Weber': 1864, 'Durkheim': 1917}"
            ]
          },
          "metadata": {},
          "execution_count": 127
        }
      ]
    },
    {
      "cell_type": "code",
      "source": [
        "death=dict(Marx=1883, Weber=1864, Durkheim=1917)\n",
        "death"
      ],
      "metadata": {
        "id": "f3Nd7eVMNomr",
        "outputId": "c479825c-510b-4771-ab2b-6b8a8a8474ce",
        "colab": {
          "base_uri": "https://localhost:8080/"
        }
      },
      "execution_count": 130,
      "outputs": [
        {
          "output_type": "execute_result",
          "data": {
            "text/plain": [
              "{'Marx': 1883, 'Weber': 1864, 'Durkheim': 1917}"
            ]
          },
          "metadata": {},
          "execution_count": 130
        }
      ]
    },
    {
      "cell_type": "code",
      "source": [
        "death[\"Merton\"]=2003\n",
        "death"
      ],
      "metadata": {
        "id": "QlUz6Ql2N10W",
        "outputId": "3b8cef91-4401-4dce-a896-79450754bb98",
        "colab": {
          "base_uri": "https://localhost:8080/"
        }
      },
      "execution_count": 131,
      "outputs": [
        {
          "output_type": "execute_result",
          "data": {
            "text/plain": [
              "{'Marx': 1883, 'Weber': 1864, 'Durkheim': 1917, 'Merton': 2003}"
            ]
          },
          "metadata": {},
          "execution_count": 131
        }
      ]
    },
    {
      "cell_type": "code",
      "source": [
        "death[\"Marx\"]-birth[\"Marx\"]"
      ],
      "metadata": {
        "id": "9klFUBo_OFHe",
        "outputId": "84c3fb4c-674e-45e2-b983-5531a8834fd1",
        "colab": {
          "base_uri": "https://localhost:8080/"
        }
      },
      "execution_count": 132,
      "outputs": [
        {
          "output_type": "execute_result",
          "data": {
            "text/plain": [
              "65"
            ]
          },
          "metadata": {},
          "execution_count": 132
        }
      ]
    },
    {
      "cell_type": "markdown",
      "metadata": {
        "id": "vuZpRLDlCGMF"
      },
      "source": [
        "## シーケンス"
      ]
    },
    {
      "cell_type": "markdown",
      "metadata": {
        "id": "SNKOxyzyCGMF"
      },
      "source": [
        "これまで色々なデータ型そして操作方法を勉強しました。その中に、集約する要素が一定の順序で並んでいて、その順序(インデックス)を使ってその要素を指定できる種類のオブジェクトを**シーケンス**といいます。\n",
        "\n",
        "シーケンスであるデータ型は以下の特徴があります。\n",
        "\n",
        "- インデックスで要素にアクセスができます\n",
        "- スライス:要素をインデックスで範囲指定し、まとめて取得することができます\n",
        "- 長さの取得ができます\n",
        "- 要素の出現回数:```count()```メソッド を使うことで指定した要素がシーケンスに何個格納されているか調べることができます"
      ]
    },
    {
      "cell_type": "markdown",
      "metadata": {
        "id": "b6ZMpUJRCGMF"
      },
      "source": [
        "````{tab-set}\n",
        "```{tab-item} 問題\n",
        "今まで紹介されたデータ型の中に、シーケンスであるデータ型は何ですか\n",
        "\n",
        "```\n",
        "\n",
        "````"
      ]
    },
    {
      "cell_type": "code",
      "source": [
        "a=\"strawberry\"\n",
        "a.count(\"r\"),len(a)"
      ],
      "metadata": {
        "id": "DLZ0havUPgcY",
        "outputId": "d4275361-776d-4327-ff11-4ee0d5d4e72d",
        "colab": {
          "base_uri": "https://localhost:8080/"
        }
      },
      "execution_count": 138,
      "outputs": [
        {
          "output_type": "execute_result",
          "data": {
            "text/plain": [
              "(3, 10)"
            ]
          },
          "metadata": {},
          "execution_count": 138
        }
      ]
    },
    {
      "cell_type": "markdown",
      "source": [
        "文字列はカウントできる→シーケンスである！"
      ],
      "metadata": {
        "id": "s0v9j7RhQrEl"
      }
    },
    {
      "cell_type": "code",
      "source": [
        "list_a=list(a)\n",
        "list_a.count(\"r\")"
      ],
      "metadata": {
        "id": "qDPaGwUsQgb-",
        "outputId": "136722af-c805-4195-8141-84a568215c55",
        "colab": {
          "base_uri": "https://localhost:8080/"
        }
      },
      "execution_count": 142,
      "outputs": [
        {
          "output_type": "execute_result",
          "data": {
            "text/plain": [
              "3"
            ]
          },
          "metadata": {},
          "execution_count": 142
        }
      ]
    },
    {
      "cell_type": "code",
      "source": [
        "tuble_a=tuple(a)\n",
        "tuble_a.count(\"r\")"
      ],
      "metadata": {
        "id": "q6KGVMBgRShF",
        "outputId": "718025b8-0543-4130-a154-a61f19e99b1c",
        "colab": {
          "base_uri": "https://localhost:8080/"
        }
      },
      "execution_count": 143,
      "outputs": [
        {
          "output_type": "execute_result",
          "data": {
            "text/plain": [
              "3"
            ]
          },
          "metadata": {},
          "execution_count": 143
        }
      ]
    },
    {
      "cell_type": "code",
      "source": [
        "set_a=set(a)\n",
        "set_a.count(\"r\")"
      ],
      "metadata": {
        "id": "nqJU9nJZRsff",
        "outputId": "453d7062-582a-4fd2-dc41-8dcd0c1e72a8",
        "colab": {
          "base_uri": "https://localhost:8080/",
          "height": 164
        }
      },
      "execution_count": 148,
      "outputs": [
        {
          "output_type": "error",
          "ename": "AttributeError",
          "evalue": "'set' object has no attribute 'count'",
          "traceback": [
            "\u001b[0;31m---------------------------------------------------------------------------\u001b[0m",
            "\u001b[0;31mAttributeError\u001b[0m                            Traceback (most recent call last)",
            "\u001b[0;32m<ipython-input-148-c34dd8400799>\u001b[0m in \u001b[0;36m<cell line: 0>\u001b[0;34m()\u001b[0m\n\u001b[1;32m      1\u001b[0m \u001b[0mset_a\u001b[0m\u001b[0;34m=\u001b[0m\u001b[0mset\u001b[0m\u001b[0;34m(\u001b[0m\u001b[0ma\u001b[0m\u001b[0;34m)\u001b[0m\u001b[0;34m\u001b[0m\u001b[0;34m\u001b[0m\u001b[0m\n\u001b[0;32m----> 2\u001b[0;31m \u001b[0mset_a\u001b[0m\u001b[0;34m.\u001b[0m\u001b[0mcount\u001b[0m\u001b[0;34m(\u001b[0m\u001b[0;34m\"r\"\u001b[0m\u001b[0;34m)\u001b[0m\u001b[0;34m\u001b[0m\u001b[0;34m\u001b[0m\u001b[0m\n\u001b[0m",
            "\u001b[0;31mAttributeError\u001b[0m: 'set' object has no attribute 'count'"
          ]
        }
      ]
    },
    {
      "cell_type": "code",
      "source": [
        "nation['America']"
      ],
      "metadata": {
        "id": "bHOuAJGJQXfQ",
        "outputId": "7a876894-7cff-4565-83ff-8525fec07b19",
        "colab": {
          "base_uri": "https://localhost:8080/",
          "height": 146
        }
      },
      "execution_count": 147,
      "outputs": [
        {
          "output_type": "error",
          "ename": "KeyError",
          "evalue": "'America'",
          "traceback": [
            "\u001b[0;31m---------------------------------------------------------------------------\u001b[0m",
            "\u001b[0;31mKeyError\u001b[0m                                  Traceback (most recent call last)",
            "\u001b[0;32m<ipython-input-147-cbc27a307744>\u001b[0m in \u001b[0;36m<cell line: 0>\u001b[0;34m()\u001b[0m\n\u001b[0;32m----> 1\u001b[0;31m \u001b[0mnation\u001b[0m\u001b[0;34m[\u001b[0m\u001b[0;34m'America'\u001b[0m\u001b[0;34m]\u001b[0m\u001b[0;34m\u001b[0m\u001b[0;34m\u001b[0m\u001b[0m\n\u001b[0m",
            "\u001b[0;31mKeyError\u001b[0m: 'America'"
          ]
        }
      ]
    }
  ],
  "metadata": {
    "kernelspec": {
      "display_name": "base",
      "language": "python",
      "name": "python3"
    },
    "language_info": {
      "codemirror_mode": {
        "name": "ipython",
        "version": 3
      },
      "file_extension": ".py",
      "mimetype": "text/x-python",
      "name": "python",
      "nbconvert_exporter": "python",
      "pygments_lexer": "ipython3",
      "version": "3.9.7"
    },
    "orig_nbformat": 4,
    "colab": {
      "provenance": []
    }
  },
  "nbformat": 4,
  "nbformat_minor": 0
}